{
 "cells": [
  {
   "cell_type": "code",
   "execution_count": 1,
   "metadata": {},
   "outputs": [],
   "source": [
    "import pandas as pd \n",
    "import numpy as np \n",
    "import matplotlib.pyplot as plt  \n",
    "import seaborn as sns"
   ]
  },
  {
   "cell_type": "code",
   "execution_count": 2,
   "metadata": {},
   "outputs": [],
   "source": [
    "data = pd.read_csv(r\"../data/rev-data.csv\")"
   ]
  },
  {
   "cell_type": "code",
   "execution_count": 3,
   "metadata": {},
   "outputs": [
    {
     "name": "stdout",
     "output_type": "stream",
     "text": [
      "<class 'pandas.core.frame.DataFrame'>\n",
      "RangeIndex: 676 entries, 0 to 675\n",
      "Data columns (total 33 columns):\n",
      " #   Column                      Non-Null Count  Dtype  \n",
      "---  ------                      --------------  -----  \n",
      " 0   Unnamed: 0                  676 non-null    int64  \n",
      " 1   product_id                  676 non-null    object \n",
      " 2   product_category_name       676 non-null    object \n",
      " 3   month_year                  676 non-null    object \n",
      " 4   qty                         676 non-null    int64  \n",
      " 5   total_price                 676 non-null    float64\n",
      " 6   freight_price               676 non-null    float64\n",
      " 7   unit_price                  676 non-null    float64\n",
      " 8   product_name_lenght         676 non-null    int64  \n",
      " 9   product_description_lenght  676 non-null    int64  \n",
      " 10  product_photos_qty          676 non-null    int64  \n",
      " 11  product_weight_g            676 non-null    int64  \n",
      " 12  product_score               676 non-null    float64\n",
      " 13  customers                   676 non-null    int64  \n",
      " 14  weekday                     676 non-null    int64  \n",
      " 15  weekend                     676 non-null    int64  \n",
      " 16  holiday                     676 non-null    int64  \n",
      " 17  month                       676 non-null    int64  \n",
      " 18  year                        676 non-null    int64  \n",
      " 19  s                           676 non-null    float64\n",
      " 20  volume                      676 non-null    int64  \n",
      " 21  comp_1                      676 non-null    float64\n",
      " 22  ps1                         676 non-null    float64\n",
      " 23  fp1                         676 non-null    float64\n",
      " 24  comp_2                      676 non-null    float64\n",
      " 25  ps2                         676 non-null    float64\n",
      " 26  fp2                         676 non-null    float64\n",
      " 27  comp_3                      676 non-null    float64\n",
      " 28  ps3                         676 non-null    float64\n",
      " 29  fp3                         676 non-null    float64\n",
      " 30  lag_price                   676 non-null    float64\n",
      " 31  revenue                     676 non-null    float64\n",
      " 32  total_revenue               676 non-null    float64\n",
      "dtypes: float64(17), int64(13), object(3)\n",
      "memory usage: 174.4+ KB\n"
     ]
    }
   ],
   "source": [
    "data.info()"
   ]
  },
  {
   "cell_type": "markdown",
   "metadata": {},
   "source": [
    "# Time Series Analysis"
   ]
  },
  {
   "cell_type": "code",
   "execution_count": null,
   "metadata": {},
   "outputs": [],
   "source": [
    "def season_of_date(date_UTC):\n",
    "    year = str(date_UTC.year)\n",
    "    seasons = {'spring': pd.date_range(start= year +'-03-21 00:00:00', end=year + '-06-20 00:00:00'),\n",
    "               'summer': pd.date_range(start= year + '-06-21 00:00:00', end= year + '-09-22 00:00:00'),\n",
    "               'autumn': pd.date_range(start= year + '-09-23 00:00:00', end= year + '-12-20 00:00:00')}\n",
    "    if date_UTC in seasons['spring']:\n",
    "        return 'spring'\n",
    "    if date_UTC in seasons['summer']:\n",
    "        return 'summer'\n",
    "    if date_UTC in seasons['autumn']:\n",
    "        return 'autumn'\n",
    "    else:\n",
    "        return 'winter'\n",
    "\n",
    "df['season'] = df.date_UTC.map(season_of_date)"
   ]
  }
 ],
 "metadata": {
  "kernelspec": {
   "display_name": "Python 3.8.8 ('base')",
   "language": "python",
   "name": "python3"
  },
  "language_info": {
   "codemirror_mode": {
    "name": "ipython",
    "version": 3
   },
   "file_extension": ".py",
   "mimetype": "text/x-python",
   "name": "python",
   "nbconvert_exporter": "python",
   "pygments_lexer": "ipython3",
   "version": "3.8.8"
  },
  "orig_nbformat": 4,
  "vscode": {
   "interpreter": {
    "hash": "b1e6b76b6e736d29445d5c5f779c1dafb0f59893c5766b7198bc0a87a8e7acf4"
   }
  }
 },
 "nbformat": 4,
 "nbformat_minor": 2
}
