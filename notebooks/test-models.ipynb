{
 "cells": [
  {
   "cell_type": "code",
   "execution_count": 1,
   "metadata": {},
   "outputs": [],
   "source": [
    "import pandas as pd\n",
    "import numpy as np "
   ]
  },
  {
   "cell_type": "code",
   "execution_count": 2,
   "metadata": {},
   "outputs": [],
   "source": [
    "sales = pd.read_csv(r'../data/sales.csv')"
   ]
  },
  {
   "cell_type": "code",
   "execution_count": 3,
   "metadata": {},
   "outputs": [],
   "source": [
    "cat_prod = sales[[\"Product_Category\", \"Product_Code\"]]"
   ]
  },
  {
   "cell_type": "code",
   "execution_count": 4,
   "metadata": {},
   "outputs": [],
   "source": [
    "grouped = cat_prod.groupby(\"Product_Category\")[\"Product_Code\"].unique()"
   ]
  },
  {
   "cell_type": "code",
   "execution_count": 5,
   "metadata": {},
   "outputs": [
    {
     "data": {
      "text/plain": [
       "array(['Product_1361', 'Product_1282', 'Product_1363', 'Product_1362'],\n",
       "      dtype=object)"
      ]
     },
     "execution_count": 5,
     "metadata": {},
     "output_type": "execute_result"
    }
   ],
   "source": [
    "grouped[\"Category_033\"]"
   ]
  },
  {
   "cell_type": "code",
   "execution_count": 6,
   "metadata": {},
   "outputs": [
    {
     "data": {
      "text/plain": [
       "Product_Category\n",
       "Category_001    278\n",
       "Category_002      1\n",
       "Category_003     12\n",
       "Category_004      1\n",
       "Category_005    185\n",
       "Category_006    112\n",
       "Category_007    141\n",
       "Category_008      7\n",
       "Category_009    102\n",
       "Category_010      7\n",
       "Category_011     59\n",
       "Category_012     24\n",
       "Category_013     13\n",
       "Category_014      1\n",
       "Category_015     64\n",
       "Category_016      4\n",
       "Category_017      8\n",
       "Category_018     16\n",
       "Category_019    534\n",
       "Category_020     23\n",
       "Category_021    143\n",
       "Category_022     46\n",
       "Category_023     62\n",
       "Category_024     53\n",
       "Category_025      2\n",
       "Category_026     41\n",
       "Category_027      2\n",
       "Category_028     57\n",
       "Category_029      4\n",
       "Category_030     99\n",
       "Category_031      6\n",
       "Category_032     49\n",
       "Category_033      4\n",
       "Name: Product_Code, dtype: int64"
      ]
     },
     "execution_count": 6,
     "metadata": {},
     "output_type": "execute_result"
    }
   ],
   "source": [
    "cat_prod.groupby(\"Product_Category\")[\"Product_Code\"].nunique()"
   ]
  },
  {
   "cell_type": "code",
   "execution_count": 7,
   "metadata": {},
   "outputs": [],
   "source": [
    "sales = sales.drop(\"year\", axis = 1)"
   ]
  },
  {
   "cell_type": "code",
   "execution_count": 8,
   "metadata": {},
   "outputs": [],
   "source": [
    "multi = sales.groupby([\"Warehouse\", \"Product_Category\", \"Product_Code\", \"month_year\"])[\"Order_Demand\"].sum()"
   ]
  },
  {
   "cell_type": "code",
   "execution_count": 9,
   "metadata": {},
   "outputs": [
    {
     "data": {
      "text/plain": [
       "Warehouse  Product_Category  Product_Code  month_year\n",
       "Whse_A     Category_001      Product_1751  2013-06       51.0\n",
       "                                           2013-07       37.0\n",
       "                                           2013-08       32.0\n",
       "                                           2013-09       60.0\n",
       "                                           2013-11       52.0\n",
       "Name: Order_Demand, dtype: float64"
      ]
     },
     "execution_count": 9,
     "metadata": {},
     "output_type": "execute_result"
    }
   ],
   "source": [
    "multi.head()"
   ]
  },
  {
   "cell_type": "code",
   "execution_count": 10,
   "metadata": {},
   "outputs": [],
   "source": [
    "date = sales[\"month_year\"].unique()"
   ]
  },
  {
   "cell_type": "code",
   "execution_count": 11,
   "metadata": {},
   "outputs": [],
   "source": [
    "date = np.sort(date)"
   ]
  },
  {
   "cell_type": "code",
   "execution_count": 12,
   "metadata": {},
   "outputs": [],
   "source": [
    "redo = multi.reindex(\n",
    "    pd.MultiIndex.from_product(\n",
    "        [multi.index.get_level_values(\"Warehouse\").unique(),\n",
    "         multi.index.get_level_values(\"Product_Category\").unique(),\n",
    "         multi.index.get_level_values(\"Product_Code\").unique(),\n",
    "         date], \n",
    "        names=['Warehouse', 'Product_Category', 'Product_Code', 'month_year'])\n",
    "    ).fillna(1.0)"
   ]
  },
  {
   "cell_type": "code",
   "execution_count": 13,
   "metadata": {},
   "outputs": [
    {
     "data": {
      "text/plain": [
       "Warehouse  Product_Category  Product_Code  month_year\n",
       "Whse_A     Category_001      Product_1751  2011-01       1.0\n",
       "                                           2011-05       1.0\n",
       "                                           2011-06       1.0\n",
       "                                           2011-09       1.0\n",
       "                                           2011-10       1.0\n",
       "Name: Order_Demand, dtype: float64"
      ]
     },
     "execution_count": 13,
     "metadata": {},
     "output_type": "execute_result"
    }
   ],
   "source": [
    "redo.head()"
   ]
  },
  {
   "cell_type": "code",
   "execution_count": 14,
   "metadata": {},
   "outputs": [
    {
     "data": {
      "text/plain": [
       "Product_1264    242\n",
       "Product_2138    241\n",
       "Product_1432    239\n",
       "Product_2167    237\n",
       "Product_0288    236\n",
       "               ... \n",
       "Product_1698      2\n",
       "Product_0465      1\n",
       "Product_1703      1\n",
       "Product_2099      1\n",
       "Product_0853      1\n",
       "Name: Product_Code, Length: 2160, dtype: int64"
      ]
     },
     "execution_count": 14,
     "metadata": {},
     "output_type": "execute_result"
    }
   ],
   "source": [
    "multi.index.get_level_values(\"Product_Code\").value_counts()"
   ]
  },
  {
   "cell_type": "code",
   "execution_count": 15,
   "metadata": {},
   "outputs": [
    {
     "data": {
      "text/plain": [
       "Product_1751    8976\n",
       "Product_1225    8976\n",
       "Product_1246    8976\n",
       "Product_1244    8976\n",
       "Product_1242    8976\n",
       "                ... \n",
       "Product_0744    8976\n",
       "Product_0743    8976\n",
       "Product_0742    8976\n",
       "Product_0741    8976\n",
       "Product_0595    8976\n",
       "Name: Product_Code, Length: 2160, dtype: int64"
      ]
     },
     "execution_count": 15,
     "metadata": {},
     "output_type": "execute_result"
    }
   ],
   "source": [
    "redo.index.get_level_values(\"Product_Code\").value_counts()"
   ]
  },
  {
   "cell_type": "code",
   "execution_count": 16,
   "metadata": {},
   "outputs": [],
   "source": [
    "test = multi.reindex(date, level = 3).sort_index()"
   ]
  },
  {
   "cell_type": "code",
   "execution_count": 17,
   "metadata": {},
   "outputs": [
    {
     "data": {
      "text/plain": [
       "Warehouse  Product_Category  Product_Code  month_year\n",
       "Whse_A     Category_001      Product_1751  2013-06       51.0\n",
       "                                           2013-07       37.0\n",
       "                                           2013-08       32.0\n",
       "                                           2013-09       60.0\n",
       "                                           2013-11       52.0\n",
       "Name: Order_Demand, dtype: float64"
      ]
     },
     "execution_count": 17,
     "metadata": {},
     "output_type": "execute_result"
    }
   ],
   "source": [
    "test.head()"
   ]
  },
  {
   "cell_type": "code",
   "execution_count": 20,
   "metadata": {},
   "outputs": [],
   "source": [
    "hier = sales.groupby([\"Warehouse\", \"Product_Category\", \"Product_Code\"])[\"Order_Demand\"].sum()"
   ]
  },
  {
   "cell_type": "code",
   "execution_count": 21,
   "metadata": {},
   "outputs": [
    {
     "data": {
      "text/plain": [
       "Warehouse  Product_Category  Product_Code\n",
       "Whse_A     Category_001      Product_1751       1744.0\n",
       "           Category_003      Product_1180       9486.0\n",
       "                             Product_1719      19224.0\n",
       "                             Product_1724      78651.0\n",
       "                             Product_1725       2880.0\n",
       "                                               ...    \n",
       "Whse_S     Category_032      Product_0592       2802.0\n",
       "                             Product_0593      43134.0\n",
       "                             Product_0595       2748.0\n",
       "                             Product_1052      69954.0\n",
       "                             Product_1101    1977000.0\n",
       "Name: Order_Demand, Length: 2849, dtype: float64"
      ]
     },
     "execution_count": 21,
     "metadata": {},
     "output_type": "execute_result"
    }
   ],
   "source": [
    "hier"
   ]
  },
  {
   "cell_type": "code",
   "execution_count": 22,
   "metadata": {},
   "outputs": [
    {
     "data": {
      "text/plain": [
       "MultiIndex([('Whse_A', 'Category_001', 'Product_1751'),\n",
       "            ('Whse_A', 'Category_003', 'Product_1180'),\n",
       "            ('Whse_A', 'Category_003', 'Product_1719'),\n",
       "            ('Whse_A', 'Category_003', 'Product_1724'),\n",
       "            ('Whse_A', 'Category_003', 'Product_1725'),\n",
       "            ('Whse_A', 'Category_003', 'Product_1726'),\n",
       "            ('Whse_A', 'Category_003', 'Product_1727'),\n",
       "            ('Whse_A', 'Category_005', 'Product_0001'),\n",
       "            ('Whse_A', 'Category_005', 'Product_0020'),\n",
       "            ('Whse_A', 'Category_005', 'Product_0031'),\n",
       "            ...\n",
       "            ('Whse_S', 'Category_032', 'Product_0586'),\n",
       "            ('Whse_S', 'Category_032', 'Product_0587'),\n",
       "            ('Whse_S', 'Category_032', 'Product_0588'),\n",
       "            ('Whse_S', 'Category_032', 'Product_0589'),\n",
       "            ('Whse_S', 'Category_032', 'Product_0591'),\n",
       "            ('Whse_S', 'Category_032', 'Product_0592'),\n",
       "            ('Whse_S', 'Category_032', 'Product_0593'),\n",
       "            ('Whse_S', 'Category_032', 'Product_0595'),\n",
       "            ('Whse_S', 'Category_032', 'Product_1052'),\n",
       "            ('Whse_S', 'Category_032', 'Product_1101')],\n",
       "           names=['Warehouse', 'Product_Category', 'Product_Code'], length=2849)"
      ]
     },
     "execution_count": 22,
     "metadata": {},
     "output_type": "execute_result"
    }
   ],
   "source": [
    "hier.index"
   ]
  },
  {
   "cell_type": "code",
   "execution_count": 27,
   "metadata": {},
   "outputs": [],
   "source": [
    "df = sales.groupby(['Warehouse', 'Product_Category', 'Product_Code', 'month_year'], as_index=False)[\"Order_Demand\"].sum()"
   ]
  },
  {
   "cell_type": "code",
   "execution_count": 29,
   "metadata": {},
   "outputs": [],
   "source": [
    "cat_combination = df[['Warehouse', 'Product_Category', 'Product_Code']].drop_duplicates()"
   ]
  },
  {
   "cell_type": "code",
   "execution_count": 30,
   "metadata": {},
   "outputs": [],
   "source": [
    "months = pd.DataFrame(df.month_year.drop_duplicates())"
   ]
  },
  {
   "cell_type": "code",
   "execution_count": 39,
   "metadata": {},
   "outputs": [
    {
     "data": {
      "text/plain": [
       "array(['2013-06', '2013-07', '2013-08', '2013-09', '2013-11', '2014-01',\n",
       "       '2014-02', '2014-03', '2014-04', '2014-05', '2014-06', '2014-07',\n",
       "       '2014-08', '2014-09', '2014-10', '2014-11', '2015-05', '2015-10',\n",
       "       '2015-12', '2016-01', '2016-02', '2016-03', '2016-04', '2016-05',\n",
       "       '2016-07', '2016-08', '2016-09', '2016-10', '2016-11', '2016-12',\n",
       "       '2012-02', '2012-03', '2012-04', '2012-06', '2012-07', '2012-08',\n",
       "       '2012-09', '2012-10', '2012-11', '2012-12', '2013-01', '2013-02',\n",
       "       '2013-03', '2013-05', '2013-10', '2013-12', '2014-12', '2015-01',\n",
       "       '2015-02', '2015-03', '2015-06', '2015-07', '2015-08', '2015-09',\n",
       "       '2015-11', '2016-06', '2012-01', '2012-05', '2013-04', '2015-04',\n",
       "       '2011-05', '2011-01', '2011-11', '2011-12', '2011-09', '2017-01',\n",
       "       '2011-10', '2011-06'], dtype=object)"
      ]
     },
     "execution_count": 39,
     "metadata": {},
     "output_type": "execute_result"
    }
   ],
   "source": [
    "months['month_year'].unique()"
   ]
  },
  {
   "cell_type": "code",
   "execution_count": 32,
   "metadata": {},
   "outputs": [],
   "source": [
    "basis = cat_combination.merge(months, how='cross')"
   ]
  },
  {
   "cell_type": "code",
   "execution_count": 35,
   "metadata": {},
   "outputs": [
    {
     "data": {
      "text/html": [
       "<div>\n",
       "<style scoped>\n",
       "    .dataframe tbody tr th:only-of-type {\n",
       "        vertical-align: middle;\n",
       "    }\n",
       "\n",
       "    .dataframe tbody tr th {\n",
       "        vertical-align: top;\n",
       "    }\n",
       "\n",
       "    .dataframe thead th {\n",
       "        text-align: right;\n",
       "    }\n",
       "</style>\n",
       "<table border=\"1\" class=\"dataframe\">\n",
       "  <thead>\n",
       "    <tr style=\"text-align: right;\">\n",
       "      <th></th>\n",
       "      <th>Warehouse</th>\n",
       "      <th>Product_Category</th>\n",
       "      <th>Product_Code</th>\n",
       "      <th>month_year</th>\n",
       "    </tr>\n",
       "  </thead>\n",
       "  <tbody>\n",
       "    <tr>\n",
       "      <th>0</th>\n",
       "      <td>Whse_A</td>\n",
       "      <td>Category_001</td>\n",
       "      <td>Product_1751</td>\n",
       "      <td>2013-06</td>\n",
       "    </tr>\n",
       "    <tr>\n",
       "      <th>1</th>\n",
       "      <td>Whse_A</td>\n",
       "      <td>Category_001</td>\n",
       "      <td>Product_1751</td>\n",
       "      <td>2013-07</td>\n",
       "    </tr>\n",
       "    <tr>\n",
       "      <th>2</th>\n",
       "      <td>Whse_A</td>\n",
       "      <td>Category_001</td>\n",
       "      <td>Product_1751</td>\n",
       "      <td>2013-08</td>\n",
       "    </tr>\n",
       "    <tr>\n",
       "      <th>3</th>\n",
       "      <td>Whse_A</td>\n",
       "      <td>Category_001</td>\n",
       "      <td>Product_1751</td>\n",
       "      <td>2013-09</td>\n",
       "    </tr>\n",
       "    <tr>\n",
       "      <th>4</th>\n",
       "      <td>Whse_A</td>\n",
       "      <td>Category_001</td>\n",
       "      <td>Product_1751</td>\n",
       "      <td>2013-11</td>\n",
       "    </tr>\n",
       "  </tbody>\n",
       "</table>\n",
       "</div>"
      ],
      "text/plain": [
       "  Warehouse Product_Category  Product_Code month_year\n",
       "0    Whse_A     Category_001  Product_1751    2013-06\n",
       "1    Whse_A     Category_001  Product_1751    2013-07\n",
       "2    Whse_A     Category_001  Product_1751    2013-08\n",
       "3    Whse_A     Category_001  Product_1751    2013-09\n",
       "4    Whse_A     Category_001  Product_1751    2013-11"
      ]
     },
     "execution_count": 35,
     "metadata": {},
     "output_type": "execute_result"
    }
   ],
   "source": [
    "basis.head()"
   ]
  },
  {
   "cell_type": "code",
   "execution_count": 33,
   "metadata": {},
   "outputs": [],
   "source": [
    "result = basis.merge( df, on=['Warehouse', 'Product_Category', 'Product_Code', 'month_year'], how='left').fillna(1.0)"
   ]
  },
  {
   "cell_type": "code",
   "execution_count": 34,
   "metadata": {},
   "outputs": [
    {
     "data": {
      "text/html": [
       "<div>\n",
       "<style scoped>\n",
       "    .dataframe tbody tr th:only-of-type {\n",
       "        vertical-align: middle;\n",
       "    }\n",
       "\n",
       "    .dataframe tbody tr th {\n",
       "        vertical-align: top;\n",
       "    }\n",
       "\n",
       "    .dataframe thead th {\n",
       "        text-align: right;\n",
       "    }\n",
       "</style>\n",
       "<table border=\"1\" class=\"dataframe\">\n",
       "  <thead>\n",
       "    <tr style=\"text-align: right;\">\n",
       "      <th></th>\n",
       "      <th>Warehouse</th>\n",
       "      <th>Product_Category</th>\n",
       "      <th>Product_Code</th>\n",
       "      <th>month_year</th>\n",
       "      <th>Order_Demand</th>\n",
       "    </tr>\n",
       "  </thead>\n",
       "  <tbody>\n",
       "    <tr>\n",
       "      <th>0</th>\n",
       "      <td>Whse_A</td>\n",
       "      <td>Category_001</td>\n",
       "      <td>Product_1751</td>\n",
       "      <td>2013-06</td>\n",
       "      <td>51.0</td>\n",
       "    </tr>\n",
       "    <tr>\n",
       "      <th>1</th>\n",
       "      <td>Whse_A</td>\n",
       "      <td>Category_001</td>\n",
       "      <td>Product_1751</td>\n",
       "      <td>2013-07</td>\n",
       "      <td>37.0</td>\n",
       "    </tr>\n",
       "    <tr>\n",
       "      <th>2</th>\n",
       "      <td>Whse_A</td>\n",
       "      <td>Category_001</td>\n",
       "      <td>Product_1751</td>\n",
       "      <td>2013-08</td>\n",
       "      <td>32.0</td>\n",
       "    </tr>\n",
       "    <tr>\n",
       "      <th>3</th>\n",
       "      <td>Whse_A</td>\n",
       "      <td>Category_001</td>\n",
       "      <td>Product_1751</td>\n",
       "      <td>2013-09</td>\n",
       "      <td>60.0</td>\n",
       "    </tr>\n",
       "    <tr>\n",
       "      <th>4</th>\n",
       "      <td>Whse_A</td>\n",
       "      <td>Category_001</td>\n",
       "      <td>Product_1751</td>\n",
       "      <td>2013-11</td>\n",
       "      <td>52.0</td>\n",
       "    </tr>\n",
       "    <tr>\n",
       "      <th>5</th>\n",
       "      <td>Whse_A</td>\n",
       "      <td>Category_001</td>\n",
       "      <td>Product_1751</td>\n",
       "      <td>2014-01</td>\n",
       "      <td>44.0</td>\n",
       "    </tr>\n",
       "    <tr>\n",
       "      <th>6</th>\n",
       "      <td>Whse_A</td>\n",
       "      <td>Category_001</td>\n",
       "      <td>Product_1751</td>\n",
       "      <td>2014-02</td>\n",
       "      <td>139.0</td>\n",
       "    </tr>\n",
       "    <tr>\n",
       "      <th>7</th>\n",
       "      <td>Whse_A</td>\n",
       "      <td>Category_001</td>\n",
       "      <td>Product_1751</td>\n",
       "      <td>2014-03</td>\n",
       "      <td>187.0</td>\n",
       "    </tr>\n",
       "    <tr>\n",
       "      <th>8</th>\n",
       "      <td>Whse_A</td>\n",
       "      <td>Category_001</td>\n",
       "      <td>Product_1751</td>\n",
       "      <td>2014-04</td>\n",
       "      <td>63.0</td>\n",
       "    </tr>\n",
       "    <tr>\n",
       "      <th>9</th>\n",
       "      <td>Whse_A</td>\n",
       "      <td>Category_001</td>\n",
       "      <td>Product_1751</td>\n",
       "      <td>2014-05</td>\n",
       "      <td>29.0</td>\n",
       "    </tr>\n",
       "  </tbody>\n",
       "</table>\n",
       "</div>"
      ],
      "text/plain": [
       "  Warehouse Product_Category  Product_Code month_year  Order_Demand\n",
       "0    Whse_A     Category_001  Product_1751    2013-06          51.0\n",
       "1    Whse_A     Category_001  Product_1751    2013-07          37.0\n",
       "2    Whse_A     Category_001  Product_1751    2013-08          32.0\n",
       "3    Whse_A     Category_001  Product_1751    2013-09          60.0\n",
       "4    Whse_A     Category_001  Product_1751    2013-11          52.0\n",
       "5    Whse_A     Category_001  Product_1751    2014-01          44.0\n",
       "6    Whse_A     Category_001  Product_1751    2014-02         139.0\n",
       "7    Whse_A     Category_001  Product_1751    2014-03         187.0\n",
       "8    Whse_A     Category_001  Product_1751    2014-04          63.0\n",
       "9    Whse_A     Category_001  Product_1751    2014-05          29.0"
      ]
     },
     "execution_count": 34,
     "metadata": {},
     "output_type": "execute_result"
    }
   ],
   "source": [
    "result.head(10)"
   ]
  },
  {
   "cell_type": "code",
   "execution_count": 41,
   "metadata": {},
   "outputs": [],
   "source": [
    "test2 = result.groupby(['Warehouse', 'Product_Category', 'Product_Code', 'month_year'])['Order_Demand'].sum()"
   ]
  },
  {
   "cell_type": "code",
   "execution_count": 42,
   "metadata": {},
   "outputs": [
    {
     "data": {
      "text/plain": [
       "Product_1264    242\n",
       "Product_2138    241\n",
       "Product_1432    239\n",
       "Product_2167    237\n",
       "Product_0288    236\n",
       "               ... \n",
       "Product_1698      2\n",
       "Product_0465      1\n",
       "Product_1703      1\n",
       "Product_2099      1\n",
       "Product_0853      1\n",
       "Name: Product_Code, Length: 2160, dtype: int64"
      ]
     },
     "execution_count": 42,
     "metadata": {},
     "output_type": "execute_result"
    }
   ],
   "source": [
    "test.index.get_level_values(\"Product_Code\").value_counts()"
   ]
  },
  {
   "cell_type": "code",
   "execution_count": 43,
   "metadata": {},
   "outputs": [
    {
     "data": {
      "text/plain": [
       "Warehouse  Product_Category  Product_Code  month_year\n",
       "Whse_A     Category_001      Product_1751  2011-01       1.0\n",
       "                                           2011-05       1.0\n",
       "                                           2011-06       1.0\n",
       "                                           2011-09       1.0\n",
       "                                           2011-10       1.0\n",
       "Name: Order_Demand, dtype: float64"
      ]
     },
     "execution_count": 43,
     "metadata": {},
     "output_type": "execute_result"
    }
   ],
   "source": [
    "test2.head()"
   ]
  },
  {
   "cell_type": "code",
   "execution_count": 44,
   "metadata": {},
   "outputs": [
    {
     "data": {
      "text/html": [
       "<div>\n",
       "<style scoped>\n",
       "    .dataframe tbody tr th:only-of-type {\n",
       "        vertical-align: middle;\n",
       "    }\n",
       "\n",
       "    .dataframe tbody tr th {\n",
       "        vertical-align: top;\n",
       "    }\n",
       "\n",
       "    .dataframe thead th {\n",
       "        text-align: right;\n",
       "    }\n",
       "</style>\n",
       "<table border=\"1\" class=\"dataframe\">\n",
       "  <thead>\n",
       "    <tr style=\"text-align: right;\">\n",
       "      <th></th>\n",
       "      <th></th>\n",
       "      <th></th>\n",
       "      <th></th>\n",
       "      <th>Order_Demand</th>\n",
       "    </tr>\n",
       "    <tr>\n",
       "      <th>Warehouse</th>\n",
       "      <th>Product_Category</th>\n",
       "      <th>Product_Code</th>\n",
       "      <th>month_year</th>\n",
       "      <th></th>\n",
       "    </tr>\n",
       "  </thead>\n",
       "  <tbody>\n",
       "    <tr>\n",
       "      <th rowspan=\"5\" valign=\"top\">Whse_A</th>\n",
       "      <th rowspan=\"5\" valign=\"top\">Category_001</th>\n",
       "      <th rowspan=\"5\" valign=\"top\">Product_1751</th>\n",
       "      <th>2011-01</th>\n",
       "      <td>1.0</td>\n",
       "    </tr>\n",
       "    <tr>\n",
       "      <th>2011-05</th>\n",
       "      <td>1.0</td>\n",
       "    </tr>\n",
       "    <tr>\n",
       "      <th>2011-06</th>\n",
       "      <td>1.0</td>\n",
       "    </tr>\n",
       "    <tr>\n",
       "      <th>2011-09</th>\n",
       "      <td>1.0</td>\n",
       "    </tr>\n",
       "    <tr>\n",
       "      <th>2011-10</th>\n",
       "      <td>1.0</td>\n",
       "    </tr>\n",
       "    <tr>\n",
       "      <th>...</th>\n",
       "      <th>...</th>\n",
       "      <th>...</th>\n",
       "      <th>...</th>\n",
       "      <td>...</td>\n",
       "    </tr>\n",
       "    <tr>\n",
       "      <th rowspan=\"5\" valign=\"top\">Whse_S</th>\n",
       "      <th rowspan=\"5\" valign=\"top\">Category_032</th>\n",
       "      <th rowspan=\"5\" valign=\"top\">Product_1101</th>\n",
       "      <th>2016-09</th>\n",
       "      <td>7000.0</td>\n",
       "    </tr>\n",
       "    <tr>\n",
       "      <th>2016-10</th>\n",
       "      <td>31000.0</td>\n",
       "    </tr>\n",
       "    <tr>\n",
       "      <th>2016-11</th>\n",
       "      <td>1.0</td>\n",
       "    </tr>\n",
       "    <tr>\n",
       "      <th>2016-12</th>\n",
       "      <td>52000.0</td>\n",
       "    </tr>\n",
       "    <tr>\n",
       "      <th>2017-01</th>\n",
       "      <td>1.0</td>\n",
       "    </tr>\n",
       "  </tbody>\n",
       "</table>\n",
       "<p>193732 rows × 1 columns</p>\n",
       "</div>"
      ],
      "text/plain": [
       "                                                    Order_Demand\n",
       "Warehouse Product_Category Product_Code month_year              \n",
       "Whse_A    Category_001     Product_1751 2011-01              1.0\n",
       "                                        2011-05              1.0\n",
       "                                        2011-06              1.0\n",
       "                                        2011-09              1.0\n",
       "                                        2011-10              1.0\n",
       "...                                                          ...\n",
       "Whse_S    Category_032     Product_1101 2016-09           7000.0\n",
       "                                        2016-10          31000.0\n",
       "                                        2016-11              1.0\n",
       "                                        2016-12          52000.0\n",
       "                                        2017-01              1.0\n",
       "\n",
       "[193732 rows x 1 columns]"
      ]
     },
     "execution_count": 44,
     "metadata": {},
     "output_type": "execute_result"
    }
   ],
   "source": [
    "test2.to_frame()"
   ]
  },
  {
   "cell_type": "code",
   "execution_count": null,
   "metadata": {},
   "outputs": [],
   "source": []
  }
 ],
 "metadata": {
  "kernelspec": {
   "display_name": "Python 3.9.13 ('env': venv)",
   "language": "python",
   "name": "python3"
  },
  "language_info": {
   "codemirror_mode": {
    "name": "ipython",
    "version": 3
   },
   "file_extension": ".py",
   "mimetype": "text/x-python",
   "name": "python",
   "nbconvert_exporter": "python",
   "pygments_lexer": "ipython3",
   "version": "3.9.13"
  },
  "orig_nbformat": 4,
  "vscode": {
   "interpreter": {
    "hash": "14957cdd6866f64350418ee3d6870eba7d9863bdf2d05bbce7132451dba63f6a"
   }
  }
 },
 "nbformat": 4,
 "nbformat_minor": 2
}
