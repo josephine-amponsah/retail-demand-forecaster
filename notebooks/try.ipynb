{
 "cells": [
  {
   "cell_type": "code",
   "execution_count": 1,
   "metadata": {},
   "outputs": [],
   "source": [
    "import pandas as pd\n",
    "import numpy as np\n",
    "import requests, io"
   ]
  },
  {
   "cell_type": "code",
   "execution_count": 2,
   "metadata": {},
   "outputs": [],
   "source": [
    "sales_url=\"https://github.com/ladyjossy77/retail-optimization/blob/master/data/sales.csv?raw=true\"\n",
    "s=requests.get(sales_url).content\n",
    "sales_data =pd.read_csv(io.StringIO(s.decode('utf-8')))\n"
   ]
  },
  {
   "cell_type": "code",
   "execution_count": 3,
   "metadata": {},
   "outputs": [],
   "source": [
    "sales = sales_data[sales_data[\"year\"] == 2016]\n",
    "data = sales.groupby(\"month_year\")[\"Order_Demand\"].sum()\n",
    "# test_data = px.data.itis()\n",
    "# labels = data[\"month_year\"]\n",
    "# values = data"
   ]
  },
  {
   "cell_type": "code",
   "execution_count": 4,
   "metadata": {},
   "outputs": [
    {
     "data": {
      "text/plain": [
       "month_year\n",
       "2016-01    78558745.0\n",
       "2016-02    73929614.0\n",
       "2016-03    93186035.0\n",
       "2016-04    79117539.0\n",
       "2016-05    79772064.0\n",
       "2016-06    83274717.0\n",
       "2016-07    88406639.0\n",
       "2016-08    80260600.0\n",
       "2016-09    77654481.0\n",
       "2016-10    83927472.0\n",
       "2016-11    89989237.0\n",
       "2016-12    80402121.0\n",
       "Name: Order_Demand, dtype: float64"
      ]
     },
     "execution_count": 4,
     "metadata": {},
     "output_type": "execute_result"
    }
   ],
   "source": [
    "data"
   ]
  },
  {
   "cell_type": "code",
   "execution_count": 5,
   "metadata": {},
   "outputs": [
    {
     "data": {
      "text/plain": [
       "12"
      ]
     },
     "execution_count": 5,
     "metadata": {},
     "output_type": "execute_result"
    }
   ],
   "source": [
    "sales[\"month_year\"].nunique()"
   ]
  },
  {
   "cell_type": "code",
   "execution_count": 6,
   "metadata": {},
   "outputs": [
    {
     "data": {
      "text/html": [
       "<div>\n",
       "<style scoped>\n",
       "    .dataframe tbody tr th:only-of-type {\n",
       "        vertical-align: middle;\n",
       "    }\n",
       "\n",
       "    .dataframe tbody tr th {\n",
       "        vertical-align: top;\n",
       "    }\n",
       "\n",
       "    .dataframe thead th {\n",
       "        text-align: right;\n",
       "    }\n",
       "</style>\n",
       "<table border=\"1\" class=\"dataframe\">\n",
       "  <thead>\n",
       "    <tr style=\"text-align: right;\">\n",
       "      <th></th>\n",
       "      <th>Unnamed: 0</th>\n",
       "      <th>Product_Code</th>\n",
       "      <th>Warehouse</th>\n",
       "      <th>Product_Category</th>\n",
       "      <th>Date</th>\n",
       "      <th>Order_Demand</th>\n",
       "      <th>month_year</th>\n",
       "      <th>year</th>\n",
       "    </tr>\n",
       "  </thead>\n",
       "  <tbody>\n",
       "    <tr>\n",
       "      <th>681339</th>\n",
       "      <td>681339</td>\n",
       "      <td>Product_1178</td>\n",
       "      <td>Whse_A</td>\n",
       "      <td>Category_024</td>\n",
       "      <td>2016-01-28</td>\n",
       "      <td>10.0</td>\n",
       "      <td>2016-01</td>\n",
       "      <td>2016</td>\n",
       "    </tr>\n",
       "    <tr>\n",
       "      <th>688322</th>\n",
       "      <td>688322</td>\n",
       "      <td>Product_1502</td>\n",
       "      <td>Whse_C</td>\n",
       "      <td>Category_019</td>\n",
       "      <td>2016-01-04</td>\n",
       "      <td>100000.0</td>\n",
       "      <td>2016-01</td>\n",
       "      <td>2016</td>\n",
       "    </tr>\n",
       "    <tr>\n",
       "      <th>757187</th>\n",
       "      <td>757187</td>\n",
       "      <td>Product_0190</td>\n",
       "      <td>Whse_A</td>\n",
       "      <td>Category_007</td>\n",
       "      <td>2016-01-06</td>\n",
       "      <td>320.0</td>\n",
       "      <td>2016-01</td>\n",
       "      <td>2016</td>\n",
       "    </tr>\n",
       "    <tr>\n",
       "      <th>757263</th>\n",
       "      <td>757263</td>\n",
       "      <td>Product_0337</td>\n",
       "      <td>Whse_A</td>\n",
       "      <td>Category_021</td>\n",
       "      <td>2016-01-06</td>\n",
       "      <td>2.0</td>\n",
       "      <td>2016-01</td>\n",
       "      <td>2016</td>\n",
       "    </tr>\n",
       "    <tr>\n",
       "      <th>757282</th>\n",
       "      <td>757282</td>\n",
       "      <td>Product_1053</td>\n",
       "      <td>Whse_A</td>\n",
       "      <td>Category_024</td>\n",
       "      <td>2016-01-06</td>\n",
       "      <td>10.0</td>\n",
       "      <td>2016-01</td>\n",
       "      <td>2016</td>\n",
       "    </tr>\n",
       "    <tr>\n",
       "      <th>...</th>\n",
       "      <td>...</td>\n",
       "      <td>...</td>\n",
       "      <td>...</td>\n",
       "      <td>...</td>\n",
       "      <td>...</td>\n",
       "      <td>...</td>\n",
       "      <td>...</td>\n",
       "      <td>...</td>\n",
       "    </tr>\n",
       "    <tr>\n",
       "      <th>1031432</th>\n",
       "      <td>1031432</td>\n",
       "      <td>Product_1791</td>\n",
       "      <td>Whse_J</td>\n",
       "      <td>Category_006</td>\n",
       "      <td>2016-04-27</td>\n",
       "      <td>1000.0</td>\n",
       "      <td>2016-04</td>\n",
       "      <td>2016</td>\n",
       "    </tr>\n",
       "    <tr>\n",
       "      <th>1031433</th>\n",
       "      <td>1031433</td>\n",
       "      <td>Product_1974</td>\n",
       "      <td>Whse_J</td>\n",
       "      <td>Category_006</td>\n",
       "      <td>2016-04-27</td>\n",
       "      <td>1.0</td>\n",
       "      <td>2016-04</td>\n",
       "      <td>2016</td>\n",
       "    </tr>\n",
       "    <tr>\n",
       "      <th>1031434</th>\n",
       "      <td>1031434</td>\n",
       "      <td>Product_1787</td>\n",
       "      <td>Whse_J</td>\n",
       "      <td>Category_006</td>\n",
       "      <td>2016-04-28</td>\n",
       "      <td>2500.0</td>\n",
       "      <td>2016-04</td>\n",
       "      <td>2016</td>\n",
       "    </tr>\n",
       "    <tr>\n",
       "      <th>1031435</th>\n",
       "      <td>1031435</td>\n",
       "      <td>Product_0901</td>\n",
       "      <td>Whse_J</td>\n",
       "      <td>Category_023</td>\n",
       "      <td>2016-10-07</td>\n",
       "      <td>50.0</td>\n",
       "      <td>2016-10</td>\n",
       "      <td>2016</td>\n",
       "    </tr>\n",
       "    <tr>\n",
       "      <th>1031436</th>\n",
       "      <td>1031436</td>\n",
       "      <td>Product_0704</td>\n",
       "      <td>Whse_J</td>\n",
       "      <td>Category_001</td>\n",
       "      <td>2016-06-27</td>\n",
       "      <td>4.0</td>\n",
       "      <td>2016-06</td>\n",
       "      <td>2016</td>\n",
       "    </tr>\n",
       "  </tbody>\n",
       "</table>\n",
       "<p>187734 rows × 8 columns</p>\n",
       "</div>"
      ],
      "text/plain": [
       "         Unnamed: 0  Product_Code Warehouse Product_Category        Date  \\\n",
       "681339       681339  Product_1178    Whse_A     Category_024  2016-01-28   \n",
       "688322       688322  Product_1502    Whse_C     Category_019  2016-01-04   \n",
       "757187       757187  Product_0190    Whse_A     Category_007  2016-01-06   \n",
       "757263       757263  Product_0337    Whse_A     Category_021  2016-01-06   \n",
       "757282       757282  Product_1053    Whse_A     Category_024  2016-01-06   \n",
       "...             ...           ...       ...              ...         ...   \n",
       "1031432     1031432  Product_1791    Whse_J     Category_006  2016-04-27   \n",
       "1031433     1031433  Product_1974    Whse_J     Category_006  2016-04-27   \n",
       "1031434     1031434  Product_1787    Whse_J     Category_006  2016-04-28   \n",
       "1031435     1031435  Product_0901    Whse_J     Category_023  2016-10-07   \n",
       "1031436     1031436  Product_0704    Whse_J     Category_001  2016-06-27   \n",
       "\n",
       "         Order_Demand month_year  year  \n",
       "681339           10.0    2016-01  2016  \n",
       "688322       100000.0    2016-01  2016  \n",
       "757187          320.0    2016-01  2016  \n",
       "757263            2.0    2016-01  2016  \n",
       "757282           10.0    2016-01  2016  \n",
       "...               ...        ...   ...  \n",
       "1031432        1000.0    2016-04  2016  \n",
       "1031433           1.0    2016-04  2016  \n",
       "1031434        2500.0    2016-04  2016  \n",
       "1031435          50.0    2016-10  2016  \n",
       "1031436           4.0    2016-06  2016  \n",
       "\n",
       "[187734 rows x 8 columns]"
      ]
     },
     "execution_count": 6,
     "metadata": {},
     "output_type": "execute_result"
    }
   ],
   "source": [
    "sales"
   ]
  },
  {
   "cell_type": "code",
   "execution_count": 7,
   "metadata": {},
   "outputs": [],
   "source": [
    "info = data.reset_index()\n",
    "# info = info.to_frame()"
   ]
  },
  {
   "cell_type": "code",
   "execution_count": 8,
   "metadata": {},
   "outputs": [],
   "source": [
    "label =info.iloc[:,:1].values"
   ]
  },
  {
   "cell_type": "code",
   "execution_count": 9,
   "metadata": {},
   "outputs": [
    {
     "data": {
      "text/plain": [
       "array([['2016-01'],\n",
       "       ['2016-02'],\n",
       "       ['2016-03'],\n",
       "       ['2016-04'],\n",
       "       ['2016-05'],\n",
       "       ['2016-06'],\n",
       "       ['2016-07'],\n",
       "       ['2016-08'],\n",
       "       ['2016-09'],\n",
       "       ['2016-10'],\n",
       "       ['2016-11'],\n",
       "       ['2016-12']], dtype=object)"
      ]
     },
     "execution_count": 9,
     "metadata": {},
     "output_type": "execute_result"
    }
   ],
   "source": [
    "label"
   ]
  },
  {
   "cell_type": "code",
   "execution_count": 10,
   "metadata": {},
   "outputs": [],
   "source": [
    "x = []\n",
    "y = []\n",
    "for i, j in zip(info.month_year, info.Order_Demand):\n",
    "    x.append(i)\n",
    "    y.append(j)"
   ]
  },
  {
   "cell_type": "code",
   "execution_count": 11,
   "metadata": {},
   "outputs": [
    {
     "data": {
      "text/plain": [
       "['2016-01',\n",
       " '2016-02',\n",
       " '2016-03',\n",
       " '2016-04',\n",
       " '2016-05',\n",
       " '2016-06',\n",
       " '2016-07',\n",
       " '2016-08',\n",
       " '2016-09',\n",
       " '2016-10',\n",
       " '2016-11',\n",
       " '2016-12']"
      ]
     },
     "execution_count": 11,
     "metadata": {},
     "output_type": "execute_result"
    }
   ],
   "source": [
    "x "
   ]
  },
  {
   "cell_type": "code",
   "execution_count": 12,
   "metadata": {},
   "outputs": [
    {
     "data": {
      "text/plain": [
       "range(0, 10)"
      ]
     },
     "execution_count": 12,
     "metadata": {},
     "output_type": "execute_result"
    }
   ],
   "source": [
    "range(10)"
   ]
  },
  {
   "cell_type": "code",
   "execution_count": 13,
   "metadata": {},
   "outputs": [
    {
     "data": {
      "text/plain": [
       "6"
      ]
     },
     "execution_count": 13,
     "metadata": {},
     "output_type": "execute_result"
    }
   ],
   "source": [
    "len(\"I am a\")"
   ]
  },
  {
   "cell_type": "code",
   "execution_count": 14,
   "metadata": {},
   "outputs": [
    {
     "data": {
      "text/plain": [
       "6"
      ]
     },
     "execution_count": 14,
     "metadata": {},
     "output_type": "execute_result"
    }
   ],
   "source": [
    "string = \"I am a\"\n",
    "len(string.strip())"
   ]
  },
  {
   "cell_type": "code",
   "execution_count": 15,
   "metadata": {},
   "outputs": [
    {
     "data": {
      "text/plain": [
       "4"
      ]
     },
     "execution_count": 15,
     "metadata": {},
     "output_type": "execute_result"
    }
   ],
   "source": [
    "len(string.replace(\" \", \"\"))"
   ]
  },
  {
   "cell_type": "code",
   "execution_count": null,
   "metadata": {},
   "outputs": [],
   "source": []
  }
 ],
 "metadata": {
  "kernelspec": {
   "display_name": "env",
   "language": "python",
   "name": "python3"
  },
  "language_info": {
   "codemirror_mode": {
    "name": "ipython",
    "version": 3
   },
   "file_extension": ".py",
   "mimetype": "text/x-python",
   "name": "python",
   "nbconvert_exporter": "python",
   "pygments_lexer": "ipython3",
   "version": "3.9.13"
  },
  "orig_nbformat": 4,
  "vscode": {
   "interpreter": {
    "hash": "14957cdd6866f64350418ee3d6870eba7d9863bdf2d05bbce7132451dba63f6a"
   }
  }
 },
 "nbformat": 4,
 "nbformat_minor": 2
}
