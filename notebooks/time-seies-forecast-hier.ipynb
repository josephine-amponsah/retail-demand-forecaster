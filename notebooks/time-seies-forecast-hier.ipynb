{
 "cells": [
  {
   "cell_type": "code",
   "execution_count": 1,
   "metadata": {},
   "outputs": [],
   "source": [
    "import pandas as pd\n",
    "import numpy as np\n",
    "import matplotlib.pyplot as plt\n",
    "import seaborn as sns"
   ]
  },
  {
   "cell_type": "code",
   "execution_count": 2,
   "metadata": {},
   "outputs": [],
   "source": [
    "data = pd.read_csv(r'../data/sales.csv', index_col=0)"
   ]
  },
  {
   "cell_type": "code",
   "execution_count": 3,
   "metadata": {},
   "outputs": [],
   "source": [
    "import sklearn\n",
    "import hts"
   ]
  },
  {
   "cell_type": "code",
   "execution_count": 4,
   "metadata": {},
   "outputs": [
    {
     "data": {
      "text/html": [
       "<div>\n",
       "<style scoped>\n",
       "    .dataframe tbody tr th:only-of-type {\n",
       "        vertical-align: middle;\n",
       "    }\n",
       "\n",
       "    .dataframe tbody tr th {\n",
       "        vertical-align: top;\n",
       "    }\n",
       "\n",
       "    .dataframe thead th {\n",
       "        text-align: right;\n",
       "    }\n",
       "</style>\n",
       "<table border=\"1\" class=\"dataframe\">\n",
       "  <thead>\n",
       "    <tr style=\"text-align: right;\">\n",
       "      <th></th>\n",
       "      <th>Product_Code</th>\n",
       "      <th>Warehouse</th>\n",
       "      <th>Product_Category</th>\n",
       "      <th>Date</th>\n",
       "      <th>Order_Demand</th>\n",
       "      <th>month_year</th>\n",
       "      <th>year</th>\n",
       "    </tr>\n",
       "  </thead>\n",
       "  <tbody>\n",
       "    <tr>\n",
       "      <th>0</th>\n",
       "      <td>Product_0993</td>\n",
       "      <td>Whse_J</td>\n",
       "      <td>Category_028</td>\n",
       "      <td>2012-07-27</td>\n",
       "      <td>100.0</td>\n",
       "      <td>2012-07</td>\n",
       "      <td>2012</td>\n",
       "    </tr>\n",
       "    <tr>\n",
       "      <th>1</th>\n",
       "      <td>Product_0979</td>\n",
       "      <td>Whse_J</td>\n",
       "      <td>Category_028</td>\n",
       "      <td>2012-01-19</td>\n",
       "      <td>500.0</td>\n",
       "      <td>2012-01</td>\n",
       "      <td>2012</td>\n",
       "    </tr>\n",
       "    <tr>\n",
       "      <th>2</th>\n",
       "      <td>Product_0979</td>\n",
       "      <td>Whse_J</td>\n",
       "      <td>Category_028</td>\n",
       "      <td>2012-02-03</td>\n",
       "      <td>500.0</td>\n",
       "      <td>2012-02</td>\n",
       "      <td>2012</td>\n",
       "    </tr>\n",
       "    <tr>\n",
       "      <th>3</th>\n",
       "      <td>Product_0979</td>\n",
       "      <td>Whse_J</td>\n",
       "      <td>Category_028</td>\n",
       "      <td>2012-02-09</td>\n",
       "      <td>500.0</td>\n",
       "      <td>2012-02</td>\n",
       "      <td>2012</td>\n",
       "    </tr>\n",
       "    <tr>\n",
       "      <th>4</th>\n",
       "      <td>Product_0979</td>\n",
       "      <td>Whse_J</td>\n",
       "      <td>Category_028</td>\n",
       "      <td>2012-03-02</td>\n",
       "      <td>500.0</td>\n",
       "      <td>2012-03</td>\n",
       "      <td>2012</td>\n",
       "    </tr>\n",
       "  </tbody>\n",
       "</table>\n",
       "</div>"
      ],
      "text/plain": [
       "   Product_Code Warehouse Product_Category        Date  Order_Demand  \\\n",
       "0  Product_0993    Whse_J     Category_028  2012-07-27         100.0   \n",
       "1  Product_0979    Whse_J     Category_028  2012-01-19         500.0   \n",
       "2  Product_0979    Whse_J     Category_028  2012-02-03         500.0   \n",
       "3  Product_0979    Whse_J     Category_028  2012-02-09         500.0   \n",
       "4  Product_0979    Whse_J     Category_028  2012-03-02         500.0   \n",
       "\n",
       "  month_year  year  \n",
       "0    2012-07  2012  \n",
       "1    2012-01  2012  \n",
       "2    2012-02  2012  \n",
       "3    2012-02  2012  \n",
       "4    2012-03  2012  "
      ]
     },
     "execution_count": 4,
     "metadata": {},
     "output_type": "execute_result"
    }
   ],
   "source": [
    "data.head()"
   ]
  },
  {
   "cell_type": "code",
   "execution_count": 5,
   "metadata": {},
   "outputs": [
    {
     "data": {
      "text/plain": [
       "array(['Whse_J', 'Whse_S', 'Whse_C', 'Whse_A'], dtype=object)"
      ]
     },
     "execution_count": 5,
     "metadata": {},
     "output_type": "execute_result"
    }
   ],
   "source": [
    "data[\"Warehouse\"].unique()"
   ]
  },
  {
   "cell_type": "code",
   "execution_count": 6,
   "metadata": {},
   "outputs": [],
   "source": [
    "# abbreviating warehouse and product category\n",
    "mapping_warehouse ={\n",
    "    \"Whse_J\" : \"WJ\",\n",
    "    \"Whse_S\" : \"WS\",\n",
    "    \"Whse_C\": \"WC\",\n",
    "    \"Whse_A\": \"WA\",\n",
    "    \n",
    "}\n",
    "data[\"Warehouse\"] = data[\"Warehouse\"].map(mapping_warehouse)"
   ]
  },
  {
   "cell_type": "code",
   "execution_count": 7,
   "metadata": {},
   "outputs": [
    {
     "data": {
      "text/plain": [
       "array(['Category_028', 'Category_006', 'Category_001', 'Category_019',\n",
       "       'Category_005', 'Category_030', 'Category_032', 'Category_011',\n",
       "       'Category_033', 'Category_007', 'Category_015', 'Category_021',\n",
       "       'Category_024', 'Category_026', 'Category_023', 'Category_022',\n",
       "       'Category_009', 'Category_003', 'Category_004', 'Category_018',\n",
       "       'Category_020', 'Category_013', 'Category_008', 'Category_017',\n",
       "       'Category_031', 'Category_025', 'Category_010', 'Category_029',\n",
       "       'Category_012', 'Category_002', 'Category_014', 'Category_027',\n",
       "       'Category_016'], dtype=object)"
      ]
     },
     "execution_count": 7,
     "metadata": {},
     "output_type": "execute_result"
    }
   ],
   "source": [
    "data[\"Product_Category\"].unique()"
   ]
  },
  {
   "cell_type": "code",
   "execution_count": 8,
   "metadata": {},
   "outputs": [],
   "source": [
    "# mapping_category={\n",
    "#     'Category_028': 'Cat28',\n",
    "#     'Category_006': 'Cat06',\n",
    "#     'Category_001': 'Cat01', \n",
    "#     'Category_019':'Cat19',\n",
    "#        'Category_005', \n",
    "#        'Category_030', \n",
    "#        'Category_032', \n",
    "#        'Category_011',\n",
    "#        'Category_033', \n",
    "#        'Category_007', \n",
    "#        'Category_015', \n",
    "#        'Category_021',\n",
    "#        'Category_024', \n",
    "#        'Category_026', \n",
    "#        'Category_023', \n",
    "#        'Category_022',\n",
    "#        'Category_009', \n",
    "#        'Category_003', \n",
    "#        'Category_004', \n",
    "#        'Category_018',\n",
    "#        'Category_020', 'Category_013', 'Category_008', 'Category_017',\n",
    "#        'Category_031', 'Category_025', 'Category_010', 'Category_029',\n",
    "#        'Category_012', 'Category_002', 'Category_014', 'Category_027',\n",
    "#        'Category_016\n",
    "# }"
   ]
  },
  {
   "cell_type": "code",
   "execution_count": 13,
   "metadata": {},
   "outputs": [],
   "source": [
    "mapping_cat = {\n",
    "    \n",
    "}\n",
    "categories = data[\"Product_Category\"].unique()\n",
    "for i in categories:\n",
    "    abbre = i[:3] + i.split(\"_\", 1)[1]\n",
    "    mapping_cat[i] = abbre"
   ]
  },
  {
   "cell_type": "code",
   "execution_count": 14,
   "metadata": {},
   "outputs": [
    {
     "data": {
      "text/plain": [
       "{'Category_028': 'Cat028',\n",
       " 'Category_006': 'Cat006',\n",
       " 'Category_001': 'Cat001',\n",
       " 'Category_019': 'Cat019',\n",
       " 'Category_005': 'Cat005',\n",
       " 'Category_030': 'Cat030',\n",
       " 'Category_032': 'Cat032',\n",
       " 'Category_011': 'Cat011',\n",
       " 'Category_033': 'Cat033',\n",
       " 'Category_007': 'Cat007',\n",
       " 'Category_015': 'Cat015',\n",
       " 'Category_021': 'Cat021',\n",
       " 'Category_024': 'Cat024',\n",
       " 'Category_026': 'Cat026',\n",
       " 'Category_023': 'Cat023',\n",
       " 'Category_022': 'Cat022',\n",
       " 'Category_009': 'Cat009',\n",
       " 'Category_003': 'Cat003',\n",
       " 'Category_004': 'Cat004',\n",
       " 'Category_018': 'Cat018',\n",
       " 'Category_020': 'Cat020',\n",
       " 'Category_013': 'Cat013',\n",
       " 'Category_008': 'Cat008',\n",
       " 'Category_017': 'Cat017',\n",
       " 'Category_031': 'Cat031',\n",
       " 'Category_025': 'Cat025',\n",
       " 'Category_010': 'Cat010',\n",
       " 'Category_029': 'Cat029',\n",
       " 'Category_012': 'Cat012',\n",
       " 'Category_002': 'Cat002',\n",
       " 'Category_014': 'Cat014',\n",
       " 'Category_027': 'Cat027',\n",
       " 'Category_016': 'Cat016'}"
      ]
     },
     "execution_count": 14,
     "metadata": {},
     "output_type": "execute_result"
    }
   ],
   "source": [
    "mapping_cat"
   ]
  },
  {
   "cell_type": "code",
   "execution_count": null,
   "metadata": {},
   "outputs": [],
   "source": [
    "# build hierarchy\n",
    "total = {'month_year': list(categories)}\n",
    "category = {i: [j for j in products if j.startswith(i)] for i in categories}\n",
    "#product = {i: [j for j in products]}\n",
    "hierarchy = {**total, **category}"
   ]
  }
 ],
 "metadata": {
  "kernelspec": {
   "display_name": "Python 3.9.13 ('env': venv)",
   "language": "python",
   "name": "python3"
  },
  "language_info": {
   "codemirror_mode": {
    "name": "ipython",
    "version": 3
   },
   "file_extension": ".py",
   "mimetype": "text/x-python",
   "name": "python",
   "nbconvert_exporter": "python",
   "pygments_lexer": "ipython3",
   "version": "3.9.13"
  },
  "orig_nbformat": 4,
  "vscode": {
   "interpreter": {
    "hash": "14957cdd6866f64350418ee3d6870eba7d9863bdf2d05bbce7132451dba63f6a"
   }
  }
 },
 "nbformat": 4,
 "nbformat_minor": 2
}
