{
 "cells": [
  {
   "cell_type": "code",
   "execution_count": 1,
   "metadata": {},
   "outputs": [],
   "source": [
    "import pandas as pd\n",
    "import numpy as np\n",
    "import matplotlib.pyplot as plt\n",
    "import seaborn as sns"
   ]
  },
  {
   "cell_type": "code",
   "execution_count": 2,
   "metadata": {},
   "outputs": [],
   "source": [
    "data = pd.read_csv(r\"../data/Historical Product Demand.csv\")"
   ]
  },
  {
   "cell_type": "code",
   "execution_count": 3,
   "metadata": {},
   "outputs": [
    {
     "data": {
      "text/html": [
       "<div>\n",
       "<style scoped>\n",
       "    .dataframe tbody tr th:only-of-type {\n",
       "        vertical-align: middle;\n",
       "    }\n",
       "\n",
       "    .dataframe tbody tr th {\n",
       "        vertical-align: top;\n",
       "    }\n",
       "\n",
       "    .dataframe thead th {\n",
       "        text-align: right;\n",
       "    }\n",
       "</style>\n",
       "<table border=\"1\" class=\"dataframe\">\n",
       "  <thead>\n",
       "    <tr style=\"text-align: right;\">\n",
       "      <th></th>\n",
       "      <th>Product_Code</th>\n",
       "      <th>Warehouse</th>\n",
       "      <th>Product_Category</th>\n",
       "      <th>Date</th>\n",
       "      <th>Order_Demand</th>\n",
       "    </tr>\n",
       "  </thead>\n",
       "  <tbody>\n",
       "    <tr>\n",
       "      <th>0</th>\n",
       "      <td>Product_0993</td>\n",
       "      <td>Whse_J</td>\n",
       "      <td>Category_028</td>\n",
       "      <td>2012/7/27</td>\n",
       "      <td>100</td>\n",
       "    </tr>\n",
       "    <tr>\n",
       "      <th>1</th>\n",
       "      <td>Product_0979</td>\n",
       "      <td>Whse_J</td>\n",
       "      <td>Category_028</td>\n",
       "      <td>2012/1/19</td>\n",
       "      <td>500</td>\n",
       "    </tr>\n",
       "    <tr>\n",
       "      <th>2</th>\n",
       "      <td>Product_0979</td>\n",
       "      <td>Whse_J</td>\n",
       "      <td>Category_028</td>\n",
       "      <td>2012/2/3</td>\n",
       "      <td>500</td>\n",
       "    </tr>\n",
       "    <tr>\n",
       "      <th>3</th>\n",
       "      <td>Product_0979</td>\n",
       "      <td>Whse_J</td>\n",
       "      <td>Category_028</td>\n",
       "      <td>2012/2/9</td>\n",
       "      <td>500</td>\n",
       "    </tr>\n",
       "    <tr>\n",
       "      <th>4</th>\n",
       "      <td>Product_0979</td>\n",
       "      <td>Whse_J</td>\n",
       "      <td>Category_028</td>\n",
       "      <td>2012/3/2</td>\n",
       "      <td>500</td>\n",
       "    </tr>\n",
       "  </tbody>\n",
       "</table>\n",
       "</div>"
      ],
      "text/plain": [
       "   Product_Code Warehouse Product_Category       Date Order_Demand\n",
       "0  Product_0993    Whse_J     Category_028  2012/7/27         100 \n",
       "1  Product_0979    Whse_J     Category_028  2012/1/19         500 \n",
       "2  Product_0979    Whse_J     Category_028   2012/2/3         500 \n",
       "3  Product_0979    Whse_J     Category_028   2012/2/9         500 \n",
       "4  Product_0979    Whse_J     Category_028   2012/3/2         500 "
      ]
     },
     "execution_count": 3,
     "metadata": {},
     "output_type": "execute_result"
    }
   ],
   "source": [
    "data.head()"
   ]
  },
  {
   "cell_type": "code",
   "execution_count": 4,
   "metadata": {},
   "outputs": [
    {
     "name": "stdout",
     "output_type": "stream",
     "text": [
      "<class 'pandas.core.frame.DataFrame'>\n",
      "RangeIndex: 1048575 entries, 0 to 1048574\n",
      "Data columns (total 5 columns):\n",
      " #   Column            Non-Null Count    Dtype \n",
      "---  ------            --------------    ----- \n",
      " 0   Product_Code      1048575 non-null  object\n",
      " 1   Warehouse         1048575 non-null  object\n",
      " 2   Product_Category  1048575 non-null  object\n",
      " 3   Date              1037336 non-null  object\n",
      " 4   Order_Demand      1048575 non-null  object\n",
      "dtypes: object(5)\n",
      "memory usage: 40.0+ MB\n"
     ]
    }
   ],
   "source": [
    "data.info()"
   ]
  },
  {
   "cell_type": "code",
   "execution_count": 5,
   "metadata": {},
   "outputs": [],
   "source": [
    "null_date = data[data[\"Date\"].isnull()]"
   ]
  },
  {
   "cell_type": "code",
   "execution_count": 6,
   "metadata": {},
   "outputs": [
    {
     "data": {
      "text/html": [
       "<div>\n",
       "<style scoped>\n",
       "    .dataframe tbody tr th:only-of-type {\n",
       "        vertical-align: middle;\n",
       "    }\n",
       "\n",
       "    .dataframe tbody tr th {\n",
       "        vertical-align: top;\n",
       "    }\n",
       "\n",
       "    .dataframe thead th {\n",
       "        text-align: right;\n",
       "    }\n",
       "</style>\n",
       "<table border=\"1\" class=\"dataframe\">\n",
       "  <thead>\n",
       "    <tr style=\"text-align: right;\">\n",
       "      <th></th>\n",
       "      <th>Product_Code</th>\n",
       "      <th>Warehouse</th>\n",
       "      <th>Product_Category</th>\n",
       "      <th>Date</th>\n",
       "      <th>Order_Demand</th>\n",
       "    </tr>\n",
       "  </thead>\n",
       "  <tbody>\n",
       "    <tr>\n",
       "      <th>45460</th>\n",
       "      <td>Product_1461</td>\n",
       "      <td>Whse_A</td>\n",
       "      <td>Category_019</td>\n",
       "      <td>NaN</td>\n",
       "      <td>10000</td>\n",
       "    </tr>\n",
       "    <tr>\n",
       "      <th>456373</th>\n",
       "      <td>Product_1636</td>\n",
       "      <td>Whse_A</td>\n",
       "      <td>Category_019</td>\n",
       "      <td>NaN</td>\n",
       "      <td>100</td>\n",
       "    </tr>\n",
       "    <tr>\n",
       "      <th>456374</th>\n",
       "      <td>Product_1461</td>\n",
       "      <td>Whse_A</td>\n",
       "      <td>Category_019</td>\n",
       "      <td>NaN</td>\n",
       "      <td>300</td>\n",
       "    </tr>\n",
       "    <tr>\n",
       "      <th>456375</th>\n",
       "      <td>Product_1464</td>\n",
       "      <td>Whse_A</td>\n",
       "      <td>Category_019</td>\n",
       "      <td>NaN</td>\n",
       "      <td>300</td>\n",
       "    </tr>\n",
       "    <tr>\n",
       "      <th>456376</th>\n",
       "      <td>Product_1388</td>\n",
       "      <td>Whse_A</td>\n",
       "      <td>Category_019</td>\n",
       "      <td>NaN</td>\n",
       "      <td>200</td>\n",
       "    </tr>\n",
       "    <tr>\n",
       "      <th>456377</th>\n",
       "      <td>Product_1464</td>\n",
       "      <td>Whse_A</td>\n",
       "      <td>Category_019</td>\n",
       "      <td>NaN</td>\n",
       "      <td>600</td>\n",
       "    </tr>\n",
       "    <tr>\n",
       "      <th>456378</th>\n",
       "      <td>Product_1402</td>\n",
       "      <td>Whse_A</td>\n",
       "      <td>Category_019</td>\n",
       "      <td>NaN</td>\n",
       "      <td>600</td>\n",
       "    </tr>\n",
       "    <tr>\n",
       "      <th>456379</th>\n",
       "      <td>Product_1461</td>\n",
       "      <td>Whse_A</td>\n",
       "      <td>Category_019</td>\n",
       "      <td>NaN</td>\n",
       "      <td>100</td>\n",
       "    </tr>\n",
       "    <tr>\n",
       "      <th>456380</th>\n",
       "      <td>Product_1539</td>\n",
       "      <td>Whse_A</td>\n",
       "      <td>Category_019</td>\n",
       "      <td>NaN</td>\n",
       "      <td>100</td>\n",
       "    </tr>\n",
       "    <tr>\n",
       "      <th>456381</th>\n",
       "      <td>Product_1388</td>\n",
       "      <td>Whse_A</td>\n",
       "      <td>Category_019</td>\n",
       "      <td>NaN</td>\n",
       "      <td>800</td>\n",
       "    </tr>\n",
       "  </tbody>\n",
       "</table>\n",
       "</div>"
      ],
      "text/plain": [
       "        Product_Code Warehouse Product_Category Date Order_Demand\n",
       "45460   Product_1461    Whse_A     Category_019  NaN       10000 \n",
       "456373  Product_1636    Whse_A     Category_019  NaN         100 \n",
       "456374  Product_1461    Whse_A     Category_019  NaN         300 \n",
       "456375  Product_1464    Whse_A     Category_019  NaN         300 \n",
       "456376  Product_1388    Whse_A     Category_019  NaN         200 \n",
       "456377  Product_1464    Whse_A     Category_019  NaN         600 \n",
       "456378  Product_1402    Whse_A     Category_019  NaN         600 \n",
       "456379  Product_1461    Whse_A     Category_019  NaN         100 \n",
       "456380  Product_1539    Whse_A     Category_019  NaN         100 \n",
       "456381  Product_1388    Whse_A     Category_019  NaN         800 "
      ]
     },
     "execution_count": 6,
     "metadata": {},
     "output_type": "execute_result"
    }
   ],
   "source": [
    "null_date.head(10)"
   ]
  },
  {
   "cell_type": "code",
   "execution_count": 7,
   "metadata": {},
   "outputs": [
    {
     "data": {
      "text/plain": [
       "45460     10000 \n",
       "456373      100 \n",
       "456374      300 \n",
       "456375      300 \n",
       "456376      200 \n",
       "           ...  \n",
       "995790     (900)\n",
       "995791     (200)\n",
       "995792     (300)\n",
       "995793     (300)\n",
       "995794     (200)\n",
       "Name: Order_Demand, Length: 11239, dtype: object"
      ]
     },
     "execution_count": 7,
     "metadata": {},
     "output_type": "execute_result"
    }
   ],
   "source": [
    "null_date[\"Order_Demand\"]"
   ]
  },
  {
   "cell_type": "code",
   "execution_count": 8,
   "metadata": {},
   "outputs": [
    {
     "data": {
      "text/plain": [
       "Whse_A    11239\n",
       "Name: Warehouse, dtype: int64"
      ]
     },
     "execution_count": 8,
     "metadata": {},
     "output_type": "execute_result"
    }
   ],
   "source": [
    "null_date['Warehouse'].value_counts()"
   ]
  },
  {
   "cell_type": "code",
   "execution_count": 9,
   "metadata": {},
   "outputs": [
    {
     "data": {
      "text/plain": [
       "Category_019    10833\n",
       "Category_028      290\n",
       "Category_005       44\n",
       "Category_026       32\n",
       "Category_006       25\n",
       "Category_031       12\n",
       "Category_021        3\n",
       "Name: Product_Category, dtype: int64"
      ]
     },
     "execution_count": 9,
     "metadata": {},
     "output_type": "execute_result"
    }
   ],
   "source": [
    "null_date['Product_Category'].value_counts()"
   ]
  },
  {
   "cell_type": "code",
   "execution_count": 10,
   "metadata": {},
   "outputs": [
    {
     "data": {
      "text/plain": [
       "Category_019    481099\n",
       "Category_005    101671\n",
       "Category_001     97787\n",
       "Category_007     82402\n",
       "Category_021     52011\n",
       "Category_006     35577\n",
       "Category_028     31302\n",
       "Category_011     23208\n",
       "Category_015     22954\n",
       "Category_024     20885\n",
       "Category_009     19738\n",
       "Category_026     14803\n",
       "Category_030     12997\n",
       "Category_032      9296\n",
       "Category_022      8657\n",
       "Category_023      7899\n",
       "Category_018      5239\n",
       "Category_003      4189\n",
       "Category_013      3743\n",
       "Category_020      3490\n",
       "Category_031      2280\n",
       "Category_033      1849\n",
       "Category_008      1560\n",
       "Category_012      1147\n",
       "Category_010       976\n",
       "Category_029       671\n",
       "Category_017       615\n",
       "Category_004       329\n",
       "Category_002        77\n",
       "Category_016        37\n",
       "Category_025        35\n",
       "Category_014        26\n",
       "Category_027        26\n",
       "Name: Product_Category, dtype: int64"
      ]
     },
     "execution_count": 10,
     "metadata": {},
     "output_type": "execute_result"
    }
   ],
   "source": [
    "data['Product_Category'].value_counts()"
   ]
  },
  {
   "cell_type": "code",
   "execution_count": 11,
   "metadata": {},
   "outputs": [],
   "source": [
    "dates = pd.DataFrame(data.Date.drop_duplicates())"
   ]
  },
  {
   "cell_type": "code",
   "execution_count": 12,
   "metadata": {},
   "outputs": [
    {
     "data": {
      "text/html": [
       "<div>\n",
       "<style scoped>\n",
       "    .dataframe tbody tr th:only-of-type {\n",
       "        vertical-align: middle;\n",
       "    }\n",
       "\n",
       "    .dataframe tbody tr th {\n",
       "        vertical-align: top;\n",
       "    }\n",
       "\n",
       "    .dataframe thead th {\n",
       "        text-align: right;\n",
       "    }\n",
       "</style>\n",
       "<table border=\"1\" class=\"dataframe\">\n",
       "  <thead>\n",
       "    <tr style=\"text-align: right;\">\n",
       "      <th></th>\n",
       "      <th>Date</th>\n",
       "    </tr>\n",
       "  </thead>\n",
       "  <tbody>\n",
       "    <tr>\n",
       "      <th>0</th>\n",
       "      <td>2012/7/27</td>\n",
       "    </tr>\n",
       "    <tr>\n",
       "      <th>1</th>\n",
       "      <td>2012/1/19</td>\n",
       "    </tr>\n",
       "    <tr>\n",
       "      <th>2</th>\n",
       "      <td>2012/2/3</td>\n",
       "    </tr>\n",
       "    <tr>\n",
       "      <th>3</th>\n",
       "      <td>2012/2/9</td>\n",
       "    </tr>\n",
       "    <tr>\n",
       "      <th>4</th>\n",
       "      <td>2012/3/2</td>\n",
       "    </tr>\n",
       "  </tbody>\n",
       "</table>\n",
       "</div>"
      ],
      "text/plain": [
       "        Date\n",
       "0  2012/7/27\n",
       "1  2012/1/19\n",
       "2   2012/2/3\n",
       "3   2012/2/9\n",
       "4   2012/3/2"
      ]
     },
     "execution_count": 12,
     "metadata": {},
     "output_type": "execute_result"
    }
   ],
   "source": [
    "dates.head()"
   ]
  },
  {
   "cell_type": "code",
   "execution_count": 13,
   "metadata": {},
   "outputs": [],
   "source": [
    "dates['Date'] = pd.to_datetime(dates['Date'])"
   ]
  },
  {
   "cell_type": "code",
   "execution_count": 14,
   "metadata": {},
   "outputs": [],
   "source": [
    "dates['Date'] = dates['Date'] + pd.DateOffset(years= 5)"
   ]
  },
  {
   "cell_type": "code",
   "execution_count": 15,
   "metadata": {},
   "outputs": [
    {
     "data": {
      "text/plain": [
       "Timestamp('2022-01-09 00:00:00')"
      ]
     },
     "execution_count": 15,
     "metadata": {},
     "output_type": "execute_result"
    }
   ],
   "source": [
    "dates['Date'].max()"
   ]
  },
  {
   "cell_type": "code",
   "execution_count": 16,
   "metadata": {},
   "outputs": [
    {
     "data": {
      "text/plain": [
       "Timestamp('2016-01-08 00:00:00')"
      ]
     },
     "execution_count": 16,
     "metadata": {},
     "output_type": "execute_result"
    }
   ],
   "source": [
    "dates['Date'].min()"
   ]
  },
  {
   "cell_type": "code",
   "execution_count": 17,
   "metadata": {},
   "outputs": [],
   "source": [
    "date_diff = dates['Date'].max() - dates['Date'].min()"
   ]
  },
  {
   "cell_type": "code",
   "execution_count": 18,
   "metadata": {},
   "outputs": [
    {
     "data": {
      "text/plain": [
       "Timedelta('2193 days 00:00:00')"
      ]
     },
     "execution_count": 18,
     "metadata": {},
     "output_type": "execute_result"
    }
   ],
   "source": [
    "date_diff"
   ]
  },
  {
   "cell_type": "code",
   "execution_count": 19,
   "metadata": {},
   "outputs": [
    {
     "name": "stdout",
     "output_type": "stream",
     "text": [
      "<class 'pandas.core.frame.DataFrame'>\n",
      "Int64Index: 1730 entries, 0 to 1038439\n",
      "Data columns (total 1 columns):\n",
      " #   Column  Non-Null Count  Dtype         \n",
      "---  ------  --------------  -----         \n",
      " 0   Date    1729 non-null   datetime64[ns]\n",
      "dtypes: datetime64[ns](1)\n",
      "memory usage: 27.0 KB\n"
     ]
    }
   ],
   "source": [
    "dates.info()"
   ]
  },
  {
   "cell_type": "code",
   "execution_count": 20,
   "metadata": {},
   "outputs": [],
   "source": [
    "full_date = pd.date_range(dates['Date'].min(), dates['Date'].max())"
   ]
  },
  {
   "cell_type": "code",
   "execution_count": 21,
   "metadata": {},
   "outputs": [
    {
     "data": {
      "text/plain": [
       "DatetimeIndex(['2016-01-08', '2016-01-09', '2016-01-10', '2016-01-11',\n",
       "               '2016-01-12', '2016-01-13', '2016-01-14', '2016-01-15',\n",
       "               '2016-01-16', '2016-01-17',\n",
       "               ...\n",
       "               '2021-12-31', '2022-01-01', '2022-01-02', '2022-01-03',\n",
       "               '2022-01-04', '2022-01-05', '2022-01-06', '2022-01-07',\n",
       "               '2022-01-08', '2022-01-09'],\n",
       "              dtype='datetime64[ns]', length=2194, freq='D')"
      ]
     },
     "execution_count": 21,
     "metadata": {},
     "output_type": "execute_result"
    }
   ],
   "source": [
    "full_date"
   ]
  },
  {
   "cell_type": "code",
   "execution_count": 22,
   "metadata": {},
   "outputs": [],
   "source": [
    "cat19_null = null_date[null_date['Product_Category'] == 'Category_019']"
   ]
  },
  {
   "cell_type": "code",
   "execution_count": 23,
   "metadata": {},
   "outputs": [],
   "source": [
    "cat19_data = data[data['Product_Category'] == 'Category_019']"
   ]
  },
  {
   "cell_type": "code",
   "execution_count": 24,
   "metadata": {},
   "outputs": [],
   "source": [
    "\n",
    "data[\"Date\"] = pd.to_datetime(data[\"Date\"])"
   ]
  },
  {
   "cell_type": "code",
   "execution_count": 25,
   "metadata": {},
   "outputs": [
    {
     "data": {
      "text/html": [
       "<div>\n",
       "<style scoped>\n",
       "    .dataframe tbody tr th:only-of-type {\n",
       "        vertical-align: middle;\n",
       "    }\n",
       "\n",
       "    .dataframe tbody tr th {\n",
       "        vertical-align: top;\n",
       "    }\n",
       "\n",
       "    .dataframe thead th {\n",
       "        text-align: right;\n",
       "    }\n",
       "</style>\n",
       "<table border=\"1\" class=\"dataframe\">\n",
       "  <thead>\n",
       "    <tr style=\"text-align: right;\">\n",
       "      <th></th>\n",
       "      <th>Product_Code</th>\n",
       "      <th>Warehouse</th>\n",
       "      <th>Product_Category</th>\n",
       "      <th>Date</th>\n",
       "      <th>Order_Demand</th>\n",
       "    </tr>\n",
       "  </thead>\n",
       "  <tbody>\n",
       "    <tr>\n",
       "      <th>0</th>\n",
       "      <td>Product_0993</td>\n",
       "      <td>Whse_J</td>\n",
       "      <td>Category_028</td>\n",
       "      <td>2012-07-27</td>\n",
       "      <td>100</td>\n",
       "    </tr>\n",
       "    <tr>\n",
       "      <th>1</th>\n",
       "      <td>Product_0979</td>\n",
       "      <td>Whse_J</td>\n",
       "      <td>Category_028</td>\n",
       "      <td>2012-01-19</td>\n",
       "      <td>500</td>\n",
       "    </tr>\n",
       "    <tr>\n",
       "      <th>2</th>\n",
       "      <td>Product_0979</td>\n",
       "      <td>Whse_J</td>\n",
       "      <td>Category_028</td>\n",
       "      <td>2012-02-03</td>\n",
       "      <td>500</td>\n",
       "    </tr>\n",
       "    <tr>\n",
       "      <th>3</th>\n",
       "      <td>Product_0979</td>\n",
       "      <td>Whse_J</td>\n",
       "      <td>Category_028</td>\n",
       "      <td>2012-02-09</td>\n",
       "      <td>500</td>\n",
       "    </tr>\n",
       "    <tr>\n",
       "      <th>4</th>\n",
       "      <td>Product_0979</td>\n",
       "      <td>Whse_J</td>\n",
       "      <td>Category_028</td>\n",
       "      <td>2012-03-02</td>\n",
       "      <td>500</td>\n",
       "    </tr>\n",
       "  </tbody>\n",
       "</table>\n",
       "</div>"
      ],
      "text/plain": [
       "   Product_Code Warehouse Product_Category       Date Order_Demand\n",
       "0  Product_0993    Whse_J     Category_028 2012-07-27         100 \n",
       "1  Product_0979    Whse_J     Category_028 2012-01-19         500 \n",
       "2  Product_0979    Whse_J     Category_028 2012-02-03         500 \n",
       "3  Product_0979    Whse_J     Category_028 2012-02-09         500 \n",
       "4  Product_0979    Whse_J     Category_028 2012-03-02         500 "
      ]
     },
     "execution_count": 25,
     "metadata": {},
     "output_type": "execute_result"
    }
   ],
   "source": [
    "data.head()"
   ]
  },
  {
   "cell_type": "code",
   "execution_count": 26,
   "metadata": {},
   "outputs": [],
   "source": [
    "data[\"Date\"] = data[\"Date\"] + pd.DateOffset(years=5)"
   ]
  },
  {
   "cell_type": "code",
   "execution_count": 27,
   "metadata": {},
   "outputs": [
    {
     "data": {
      "text/plain": [
       "Timestamp('2016-01-08 00:00:00')"
      ]
     },
     "execution_count": 27,
     "metadata": {},
     "output_type": "execute_result"
    }
   ],
   "source": [
    "\n",
    "data[\"Date\"].min()"
   ]
  },
  {
   "cell_type": "code",
   "execution_count": 28,
   "metadata": {},
   "outputs": [
    {
     "data": {
      "text/plain": [
       "Timestamp('2022-01-09 00:00:00')"
      ]
     },
     "execution_count": 28,
     "metadata": {},
     "output_type": "execute_result"
    }
   ],
   "source": [
    "data[\"Date\"].max()"
   ]
  },
  {
   "cell_type": "code",
   "execution_count": 29,
   "metadata": {},
   "outputs": [],
   "source": [
    "df = data.groupby([\"Date\", \"Warehouse\", \"Product_Category\", \"Product_Code\"])[\"Order_Demand\"].sum()"
   ]
  },
  {
   "cell_type": "code",
   "execution_count": 30,
   "metadata": {},
   "outputs": [
    {
     "data": {
      "text/plain": [
       "Date        Warehouse  Product_Category  Product_Code\n",
       "2016-01-08  Whse_A     Category_006      Product_0965             2 \n",
       "2016-05-31  Whse_A     Category_003      Product_1724           108 \n",
       "2016-06-24  Whse_S     Category_019      Product_1521    85000 7000 \n",
       "2016-09-02  Whse_C     Category_019      Product_1507          1250 \n",
       "2016-09-27  Whse_C     Category_001      Product_0608             5 \n",
       "                                         Product_1933            23 \n",
       "2016-09-30  Whse_C     Category_023      Product_0875          5450 \n",
       "2016-10-20  Whse_S     Category_007      Product_0412            (2)\n",
       "                       Category_011      Product_0125            (2)\n",
       "2016-10-31  Whse_C     Category_019      Product_0642             3 \n",
       "Name: Order_Demand, dtype: object"
      ]
     },
     "execution_count": 30,
     "metadata": {},
     "output_type": "execute_result"
    }
   ],
   "source": [
    "df.head(10)"
   ]
  },
  {
   "cell_type": "code",
   "execution_count": 31,
   "metadata": {},
   "outputs": [],
   "source": [
    "data[\"month_year\"] = data[\"Date\"].dt.to_period('M')"
   ]
  },
  {
   "cell_type": "code",
   "execution_count": 32,
   "metadata": {},
   "outputs": [
    {
     "data": {
      "text/html": [
       "<div>\n",
       "<style scoped>\n",
       "    .dataframe tbody tr th:only-of-type {\n",
       "        vertical-align: middle;\n",
       "    }\n",
       "\n",
       "    .dataframe tbody tr th {\n",
       "        vertical-align: top;\n",
       "    }\n",
       "\n",
       "    .dataframe thead th {\n",
       "        text-align: right;\n",
       "    }\n",
       "</style>\n",
       "<table border=\"1\" class=\"dataframe\">\n",
       "  <thead>\n",
       "    <tr style=\"text-align: right;\">\n",
       "      <th></th>\n",
       "      <th>Product_Code</th>\n",
       "      <th>Warehouse</th>\n",
       "      <th>Product_Category</th>\n",
       "      <th>Date</th>\n",
       "      <th>Order_Demand</th>\n",
       "      <th>month_year</th>\n",
       "    </tr>\n",
       "  </thead>\n",
       "  <tbody>\n",
       "    <tr>\n",
       "      <th>0</th>\n",
       "      <td>Product_0993</td>\n",
       "      <td>Whse_J</td>\n",
       "      <td>Category_028</td>\n",
       "      <td>2017-07-27</td>\n",
       "      <td>100</td>\n",
       "      <td>2017-07</td>\n",
       "    </tr>\n",
       "    <tr>\n",
       "      <th>1</th>\n",
       "      <td>Product_0979</td>\n",
       "      <td>Whse_J</td>\n",
       "      <td>Category_028</td>\n",
       "      <td>2017-01-19</td>\n",
       "      <td>500</td>\n",
       "      <td>2017-01</td>\n",
       "    </tr>\n",
       "    <tr>\n",
       "      <th>2</th>\n",
       "      <td>Product_0979</td>\n",
       "      <td>Whse_J</td>\n",
       "      <td>Category_028</td>\n",
       "      <td>2017-02-03</td>\n",
       "      <td>500</td>\n",
       "      <td>2017-02</td>\n",
       "    </tr>\n",
       "    <tr>\n",
       "      <th>3</th>\n",
       "      <td>Product_0979</td>\n",
       "      <td>Whse_J</td>\n",
       "      <td>Category_028</td>\n",
       "      <td>2017-02-09</td>\n",
       "      <td>500</td>\n",
       "      <td>2017-02</td>\n",
       "    </tr>\n",
       "    <tr>\n",
       "      <th>4</th>\n",
       "      <td>Product_0979</td>\n",
       "      <td>Whse_J</td>\n",
       "      <td>Category_028</td>\n",
       "      <td>2017-03-02</td>\n",
       "      <td>500</td>\n",
       "      <td>2017-03</td>\n",
       "    </tr>\n",
       "  </tbody>\n",
       "</table>\n",
       "</div>"
      ],
      "text/plain": [
       "   Product_Code Warehouse Product_Category       Date Order_Demand month_year\n",
       "0  Product_0993    Whse_J     Category_028 2017-07-27         100     2017-07\n",
       "1  Product_0979    Whse_J     Category_028 2017-01-19         500     2017-01\n",
       "2  Product_0979    Whse_J     Category_028 2017-02-03         500     2017-02\n",
       "3  Product_0979    Whse_J     Category_028 2017-02-09         500     2017-02\n",
       "4  Product_0979    Whse_J     Category_028 2017-03-02         500     2017-03"
      ]
     },
     "execution_count": 32,
     "metadata": {},
     "output_type": "execute_result"
    }
   ],
   "source": [
    "data.head()"
   ]
  },
  {
   "cell_type": "code",
   "execution_count": 33,
   "metadata": {},
   "outputs": [
    {
     "data": {
      "text/plain": [
       "<PeriodArray>\n",
       "['2017-07', '2017-01', '2017-02', '2017-03', '2017-04', '2017-06', '2017-08',\n",
       " '2017-09', '2017-10', '2017-11', '2017-12', '2017-05', '2016-12', '2018-01',\n",
       " '2016-11', '2016-06', '2016-09', '2016-01',     'NaT', '2016-05', '2016-10',\n",
       " '2018-02', '2018-10', '2018-03', '2018-04', '2018-05', '2018-06', '2018-07',\n",
       " '2018-08', '2018-09', '2018-11', '2018-12', '2019-04', '2019-01', '2019-11',\n",
       " '2019-02', '2019-09', '2019-10', '2019-12', '2019-03', '2019-05', '2019-06',\n",
       " '2019-07', '2019-08', '2020-01', '2020-02', '2020-03', '2020-04', '2020-05',\n",
       " '2020-06', '2020-07', '2020-08', '2020-10', '2020-11', '2020-12', '2020-09',\n",
       " '2021-01', '2021-02', '2021-04', '2021-05', '2021-06', '2021-07', '2021-09',\n",
       " '2021-10', '2021-11', '2021-12', '2021-03', '2021-08', '2022-01']\n",
       "Length: 69, dtype: period[M]"
      ]
     },
     "execution_count": 33,
     "metadata": {},
     "output_type": "execute_result"
    }
   ],
   "source": [
    "data[\"month_year\"].unique()"
   ]
  },
  {
   "cell_type": "code",
   "execution_count": 34,
   "metadata": {},
   "outputs": [
    {
     "data": {
      "text/plain": [
       "68"
      ]
     },
     "execution_count": 34,
     "metadata": {},
     "output_type": "execute_result"
    }
   ],
   "source": [
    "data[\"month_year\"].nunique()"
   ]
  },
  {
   "cell_type": "code",
   "execution_count": 35,
   "metadata": {},
   "outputs": [
    {
     "data": {
      "text/plain": [
       "array(['100 ', '500 ', '50000 ', ..., '(3750)', '(191)', '28250 '],\n",
       "      dtype=object)"
      ]
     },
     "execution_count": 35,
     "metadata": {},
     "output_type": "execute_result"
    }
   ],
   "source": [
    "data[\"Order_Demand\"].unique()"
   ]
  },
  {
   "cell_type": "code",
   "execution_count": 36,
   "metadata": {},
   "outputs": [],
   "source": [
    "data[\"Order_Demand\"] = data[\"Order_Demand\"].replace( '[\\$,)]','', regex=True )\\\n",
    "               .replace( '[(]','-',   regex=True ).astype(float)"
   ]
  },
  {
   "cell_type": "code",
   "execution_count": 37,
   "metadata": {},
   "outputs": [],
   "source": [
    "data[\"year\"] = data[\"Date\"].dt.to_period('Y')"
   ]
  },
  {
   "cell_type": "code",
   "execution_count": 38,
   "metadata": {},
   "outputs": [],
   "source": [
    "# fill out null dates for each category\n",
    "\n",
    "# creates dictionary of category and date pairs\n",
    "pairs = data[[\"Product_Category\", \"Date\"]].dropna().to_dict()"
   ]
  },
  {
   "cell_type": "code",
   "execution_count": 39,
   "metadata": {},
   "outputs": [],
   "source": [
    "fill_values = dict(zip(pairs['Product_Category'].values(), pairs['Date'].values()))"
   ]
  },
  {
   "cell_type": "code",
   "execution_count": 40,
   "metadata": {},
   "outputs": [],
   "source": [
    "data.Date = data.apply(lambda d: fill_values[d.Product_Category] if d.Date is np.nan else d.Date, axis=1)"
   ]
  },
  {
   "cell_type": "code",
   "execution_count": 41,
   "metadata": {},
   "outputs": [
    {
     "data": {
      "text/plain": [
       "Product_Code            0\n",
       "Warehouse               0\n",
       "Product_Category        0\n",
       "Date                11239\n",
       "Order_Demand            0\n",
       "month_year          11239\n",
       "year                11239\n",
       "dtype: int64"
      ]
     },
     "execution_count": 41,
     "metadata": {},
     "output_type": "execute_result"
    }
   ],
   "source": [
    "data.isnull().sum()"
   ]
  },
  {
   "cell_type": "code",
   "execution_count": 42,
   "metadata": {},
   "outputs": [],
   "source": [
    "data = data.dropna()"
   ]
  },
  {
   "cell_type": "code",
   "execution_count": 43,
   "metadata": {},
   "outputs": [],
   "source": [
    "returned_products = data[data[\"Order_Demand\"] < 0]"
   ]
  },
  {
   "cell_type": "code",
   "execution_count": 44,
   "metadata": {},
   "outputs": [
    {
     "data": {
      "text/html": [
       "<div>\n",
       "<style scoped>\n",
       "    .dataframe tbody tr th:only-of-type {\n",
       "        vertical-align: middle;\n",
       "    }\n",
       "\n",
       "    .dataframe tbody tr th {\n",
       "        vertical-align: top;\n",
       "    }\n",
       "\n",
       "    .dataframe thead th {\n",
       "        text-align: right;\n",
       "    }\n",
       "</style>\n",
       "<table border=\"1\" class=\"dataframe\">\n",
       "  <thead>\n",
       "    <tr style=\"text-align: right;\">\n",
       "      <th></th>\n",
       "      <th>Product_Code</th>\n",
       "      <th>Warehouse</th>\n",
       "      <th>Product_Category</th>\n",
       "      <th>Date</th>\n",
       "      <th>Order_Demand</th>\n",
       "      <th>month_year</th>\n",
       "      <th>year</th>\n",
       "    </tr>\n",
       "  </thead>\n",
       "  <tbody>\n",
       "    <tr>\n",
       "      <th>0</th>\n",
       "      <td>Product_2169</td>\n",
       "      <td>Whse_A</td>\n",
       "      <td>Category_024</td>\n",
       "      <td>2017-08-09</td>\n",
       "      <td>-1.0</td>\n",
       "      <td>2017-08</td>\n",
       "      <td>2017</td>\n",
       "    </tr>\n",
       "    <tr>\n",
       "      <th>1</th>\n",
       "      <td>Product_2132</td>\n",
       "      <td>Whse_A</td>\n",
       "      <td>Category_009</td>\n",
       "      <td>2017-11-01</td>\n",
       "      <td>-24.0</td>\n",
       "      <td>2017-11</td>\n",
       "      <td>2017</td>\n",
       "    </tr>\n",
       "    <tr>\n",
       "      <th>2</th>\n",
       "      <td>Product_2144</td>\n",
       "      <td>Whse_A</td>\n",
       "      <td>Category_009</td>\n",
       "      <td>2017-11-01</td>\n",
       "      <td>-24.0</td>\n",
       "      <td>2017-11</td>\n",
       "      <td>2017</td>\n",
       "    </tr>\n",
       "    <tr>\n",
       "      <th>3</th>\n",
       "      <td>Product_2118</td>\n",
       "      <td>Whse_A</td>\n",
       "      <td>Category_009</td>\n",
       "      <td>2017-03-07</td>\n",
       "      <td>-50.0</td>\n",
       "      <td>2017-03</td>\n",
       "      <td>2017</td>\n",
       "    </tr>\n",
       "    <tr>\n",
       "      <th>4</th>\n",
       "      <td>Product_2120</td>\n",
       "      <td>Whse_A</td>\n",
       "      <td>Category_009</td>\n",
       "      <td>2017-03-07</td>\n",
       "      <td>-100.0</td>\n",
       "      <td>2017-03</td>\n",
       "      <td>2017</td>\n",
       "    </tr>\n",
       "    <tr>\n",
       "      <th>...</th>\n",
       "      <td>...</td>\n",
       "      <td>...</td>\n",
       "      <td>...</td>\n",
       "      <td>...</td>\n",
       "      <td>...</td>\n",
       "      <td>...</td>\n",
       "      <td>...</td>\n",
       "    </tr>\n",
       "    <tr>\n",
       "      <th>5894</th>\n",
       "      <td>Product_1887</td>\n",
       "      <td>Whse_J</td>\n",
       "      <td>Category_007</td>\n",
       "      <td>2021-06-30</td>\n",
       "      <td>-100.0</td>\n",
       "      <td>2021-06</td>\n",
       "      <td>2021</td>\n",
       "    </tr>\n",
       "    <tr>\n",
       "      <th>5895</th>\n",
       "      <td>Product_0092</td>\n",
       "      <td>Whse_J</td>\n",
       "      <td>Category_019</td>\n",
       "      <td>2021-06-15</td>\n",
       "      <td>-400.0</td>\n",
       "      <td>2021-06</td>\n",
       "      <td>2021</td>\n",
       "    </tr>\n",
       "    <tr>\n",
       "      <th>5896</th>\n",
       "      <td>Product_0686</td>\n",
       "      <td>Whse_J</td>\n",
       "      <td>Category_011</td>\n",
       "      <td>2021-07-29</td>\n",
       "      <td>-230.0</td>\n",
       "      <td>2021-07</td>\n",
       "      <td>2021</td>\n",
       "    </tr>\n",
       "    <tr>\n",
       "      <th>5897</th>\n",
       "      <td>Product_0687</td>\n",
       "      <td>Whse_J</td>\n",
       "      <td>Category_011</td>\n",
       "      <td>2021-07-29</td>\n",
       "      <td>-230.0</td>\n",
       "      <td>2021-07</td>\n",
       "      <td>2021</td>\n",
       "    </tr>\n",
       "    <tr>\n",
       "      <th>5898</th>\n",
       "      <td>Product_0688</td>\n",
       "      <td>Whse_J</td>\n",
       "      <td>Category_011</td>\n",
       "      <td>2021-07-29</td>\n",
       "      <td>-270.0</td>\n",
       "      <td>2021-07</td>\n",
       "      <td>2021</td>\n",
       "    </tr>\n",
       "  </tbody>\n",
       "</table>\n",
       "<p>5899 rows × 7 columns</p>\n",
       "</div>"
      ],
      "text/plain": [
       "      Product_Code Warehouse Product_Category       Date  Order_Demand  \\\n",
       "0     Product_2169    Whse_A     Category_024 2017-08-09          -1.0   \n",
       "1     Product_2132    Whse_A     Category_009 2017-11-01         -24.0   \n",
       "2     Product_2144    Whse_A     Category_009 2017-11-01         -24.0   \n",
       "3     Product_2118    Whse_A     Category_009 2017-03-07         -50.0   \n",
       "4     Product_2120    Whse_A     Category_009 2017-03-07        -100.0   \n",
       "...            ...       ...              ...        ...           ...   \n",
       "5894  Product_1887    Whse_J     Category_007 2021-06-30        -100.0   \n",
       "5895  Product_0092    Whse_J     Category_019 2021-06-15        -400.0   \n",
       "5896  Product_0686    Whse_J     Category_011 2021-07-29        -230.0   \n",
       "5897  Product_0687    Whse_J     Category_011 2021-07-29        -230.0   \n",
       "5898  Product_0688    Whse_J     Category_011 2021-07-29        -270.0   \n",
       "\n",
       "     month_year  year  \n",
       "0       2017-08  2017  \n",
       "1       2017-11  2017  \n",
       "2       2017-11  2017  \n",
       "3       2017-03  2017  \n",
       "4       2017-03  2017  \n",
       "...         ...   ...  \n",
       "5894    2021-06  2021  \n",
       "5895    2021-06  2021  \n",
       "5896    2021-07  2021  \n",
       "5897    2021-07  2021  \n",
       "5898    2021-07  2021  \n",
       "\n",
       "[5899 rows x 7 columns]"
      ]
     },
     "execution_count": 44,
     "metadata": {},
     "output_type": "execute_result"
    }
   ],
   "source": [
    "returned_products.reset_index(drop = True)"
   ]
  },
  {
   "cell_type": "code",
   "execution_count": 45,
   "metadata": {},
   "outputs": [],
   "source": [
    "returned_products = returned_products.rename(columns={'Order_Demand': 'Returns'})"
   ]
  },
  {
   "cell_type": "code",
   "execution_count": 46,
   "metadata": {},
   "outputs": [],
   "source": [
    "returned_products[\"Returns\"] = abs(returned_products[\"Returns\"])\n"
   ]
  },
  {
   "cell_type": "code",
   "execution_count": 47,
   "metadata": {},
   "outputs": [
    {
     "data": {
      "text/html": [
       "<div>\n",
       "<style scoped>\n",
       "    .dataframe tbody tr th:only-of-type {\n",
       "        vertical-align: middle;\n",
       "    }\n",
       "\n",
       "    .dataframe tbody tr th {\n",
       "        vertical-align: top;\n",
       "    }\n",
       "\n",
       "    .dataframe thead th {\n",
       "        text-align: right;\n",
       "    }\n",
       "</style>\n",
       "<table border=\"1\" class=\"dataframe\">\n",
       "  <thead>\n",
       "    <tr style=\"text-align: right;\">\n",
       "      <th></th>\n",
       "      <th>Product_Code</th>\n",
       "      <th>Warehouse</th>\n",
       "      <th>Product_Category</th>\n",
       "      <th>Date</th>\n",
       "      <th>Returns</th>\n",
       "      <th>month_year</th>\n",
       "      <th>year</th>\n",
       "    </tr>\n",
       "  </thead>\n",
       "  <tbody>\n",
       "    <tr>\n",
       "      <th>112290</th>\n",
       "      <td>Product_2169</td>\n",
       "      <td>Whse_A</td>\n",
       "      <td>Category_024</td>\n",
       "      <td>2017-08-09</td>\n",
       "      <td>1.0</td>\n",
       "      <td>2017-08</td>\n",
       "      <td>2017</td>\n",
       "    </tr>\n",
       "    <tr>\n",
       "      <th>112307</th>\n",
       "      <td>Product_2132</td>\n",
       "      <td>Whse_A</td>\n",
       "      <td>Category_009</td>\n",
       "      <td>2017-11-01</td>\n",
       "      <td>24.0</td>\n",
       "      <td>2017-11</td>\n",
       "      <td>2017</td>\n",
       "    </tr>\n",
       "    <tr>\n",
       "      <th>112308</th>\n",
       "      <td>Product_2144</td>\n",
       "      <td>Whse_A</td>\n",
       "      <td>Category_009</td>\n",
       "      <td>2017-11-01</td>\n",
       "      <td>24.0</td>\n",
       "      <td>2017-11</td>\n",
       "      <td>2017</td>\n",
       "    </tr>\n",
       "    <tr>\n",
       "      <th>112356</th>\n",
       "      <td>Product_2118</td>\n",
       "      <td>Whse_A</td>\n",
       "      <td>Category_009</td>\n",
       "      <td>2017-03-07</td>\n",
       "      <td>50.0</td>\n",
       "      <td>2017-03</td>\n",
       "      <td>2017</td>\n",
       "    </tr>\n",
       "    <tr>\n",
       "      <th>112357</th>\n",
       "      <td>Product_2120</td>\n",
       "      <td>Whse_A</td>\n",
       "      <td>Category_009</td>\n",
       "      <td>2017-03-07</td>\n",
       "      <td>100.0</td>\n",
       "      <td>2017-03</td>\n",
       "      <td>2017</td>\n",
       "    </tr>\n",
       "  </tbody>\n",
       "</table>\n",
       "</div>"
      ],
      "text/plain": [
       "        Product_Code Warehouse Product_Category       Date  Returns  \\\n",
       "112290  Product_2169    Whse_A     Category_024 2017-08-09      1.0   \n",
       "112307  Product_2132    Whse_A     Category_009 2017-11-01     24.0   \n",
       "112308  Product_2144    Whse_A     Category_009 2017-11-01     24.0   \n",
       "112356  Product_2118    Whse_A     Category_009 2017-03-07     50.0   \n",
       "112357  Product_2120    Whse_A     Category_009 2017-03-07    100.0   \n",
       "\n",
       "       month_year  year  \n",
       "112290    2017-08  2017  \n",
       "112307    2017-11  2017  \n",
       "112308    2017-11  2017  \n",
       "112356    2017-03  2017  \n",
       "112357    2017-03  2017  "
      ]
     },
     "execution_count": 47,
     "metadata": {},
     "output_type": "execute_result"
    }
   ],
   "source": [
    "returned_products.head()"
   ]
  },
  {
   "cell_type": "code",
   "execution_count": 48,
   "metadata": {},
   "outputs": [],
   "source": [
    "returned_products = returned_products.reset_index(drop = True)"
   ]
  },
  {
   "cell_type": "code",
   "execution_count": 49,
   "metadata": {},
   "outputs": [],
   "source": [
    "sales = data[data[\"Order_Demand\"] >= 0]"
   ]
  },
  {
   "cell_type": "code",
   "execution_count": 50,
   "metadata": {},
   "outputs": [],
   "source": [
    "sales = sales.reset_index(drop = True)"
   ]
  },
  {
   "cell_type": "code",
   "execution_count": 51,
   "metadata": {},
   "outputs": [
    {
     "name": "stdout",
     "output_type": "stream",
     "text": [
      "<class 'pandas.core.frame.DataFrame'>\n",
      "RangeIndex: 1031437 entries, 0 to 1031436\n",
      "Data columns (total 7 columns):\n",
      " #   Column            Non-Null Count    Dtype         \n",
      "---  ------            --------------    -----         \n",
      " 0   Product_Code      1031437 non-null  object        \n",
      " 1   Warehouse         1031437 non-null  object        \n",
      " 2   Product_Category  1031437 non-null  object        \n",
      " 3   Date              1031437 non-null  datetime64[ns]\n",
      " 4   Order_Demand      1031437 non-null  float64       \n",
      " 5   month_year        1031437 non-null  period[M]     \n",
      " 6   year              1031437 non-null  period[A-DEC] \n",
      "dtypes: datetime64[ns](1), float64(1), object(3), period[A-DEC](1), period[M](1)\n",
      "memory usage: 55.1+ MB\n"
     ]
    }
   ],
   "source": [
    "sales.info()"
   ]
  },
  {
   "cell_type": "code",
   "execution_count": 52,
   "metadata": {},
   "outputs": [],
   "source": [
    "returned_products.to_csv(\"../data/returns.csv\")"
   ]
  },
  {
   "cell_type": "code",
   "execution_count": 53,
   "metadata": {},
   "outputs": [],
   "source": [
    "sales.to_csv(\"../data/sales.csv\")"
   ]
  },
  {
   "cell_type": "code",
   "execution_count": 54,
   "metadata": {},
   "outputs": [
    {
     "data": {
      "text/plain": [
       "Period('2022', 'A-DEC')"
      ]
     },
     "execution_count": 54,
     "metadata": {},
     "output_type": "execute_result"
    }
   ],
   "source": [
    "sales[\"year\"].max()"
   ]
  },
  {
   "attachments": {},
   "cell_type": "markdown",
   "metadata": {},
   "source": [
    "# Data Restructuring for Dash App"
   ]
  },
  {
   "cell_type": "code",
   "execution_count": 55,
   "metadata": {},
   "outputs": [],
   "source": [
    "sales_app = sales[sales[\"year\"] >= \"2019\" ]"
   ]
  },
  {
   "cell_type": "code",
   "execution_count": 56,
   "metadata": {},
   "outputs": [
    {
     "data": {
      "text/html": [
       "<div>\n",
       "<style scoped>\n",
       "    .dataframe tbody tr th:only-of-type {\n",
       "        vertical-align: middle;\n",
       "    }\n",
       "\n",
       "    .dataframe tbody tr th {\n",
       "        vertical-align: top;\n",
       "    }\n",
       "\n",
       "    .dataframe thead th {\n",
       "        text-align: right;\n",
       "    }\n",
       "</style>\n",
       "<table border=\"1\" class=\"dataframe\">\n",
       "  <thead>\n",
       "    <tr style=\"text-align: right;\">\n",
       "      <th></th>\n",
       "      <th>Product_Code</th>\n",
       "      <th>Warehouse</th>\n",
       "      <th>Product_Category</th>\n",
       "      <th>Date</th>\n",
       "      <th>Order_Demand</th>\n",
       "      <th>month_year</th>\n",
       "      <th>year</th>\n",
       "    </tr>\n",
       "  </thead>\n",
       "  <tbody>\n",
       "    <tr>\n",
       "      <th>202916</th>\n",
       "      <td>Product_1904</td>\n",
       "      <td>Whse_S</td>\n",
       "      <td>Category_019</td>\n",
       "      <td>2019-04-05</td>\n",
       "      <td>35000.0</td>\n",
       "      <td>2019-04</td>\n",
       "      <td>2019</td>\n",
       "    </tr>\n",
       "    <tr>\n",
       "      <th>205411</th>\n",
       "      <td>Product_1341</td>\n",
       "      <td>Whse_S</td>\n",
       "      <td>Category_019</td>\n",
       "      <td>2019-01-07</td>\n",
       "      <td>140000.0</td>\n",
       "      <td>2019-01</td>\n",
       "      <td>2019</td>\n",
       "    </tr>\n",
       "    <tr>\n",
       "      <th>207885</th>\n",
       "      <td>Product_1356</td>\n",
       "      <td>Whse_S</td>\n",
       "      <td>Category_019</td>\n",
       "      <td>2019-01-03</td>\n",
       "      <td>10000.0</td>\n",
       "      <td>2019-01</td>\n",
       "      <td>2019</td>\n",
       "    </tr>\n",
       "    <tr>\n",
       "      <th>207888</th>\n",
       "      <td>Product_1431</td>\n",
       "      <td>Whse_S</td>\n",
       "      <td>Category_019</td>\n",
       "      <td>2019-01-03</td>\n",
       "      <td>50000.0</td>\n",
       "      <td>2019-01</td>\n",
       "      <td>2019</td>\n",
       "    </tr>\n",
       "    <tr>\n",
       "      <th>267871</th>\n",
       "      <td>Product_0980</td>\n",
       "      <td>Whse_A</td>\n",
       "      <td>Category_028</td>\n",
       "      <td>2019-11-14</td>\n",
       "      <td>5000.0</td>\n",
       "      <td>2019-11</td>\n",
       "      <td>2019</td>\n",
       "    </tr>\n",
       "  </tbody>\n",
       "</table>\n",
       "</div>"
      ],
      "text/plain": [
       "        Product_Code Warehouse Product_Category       Date  Order_Demand  \\\n",
       "202916  Product_1904    Whse_S     Category_019 2019-04-05       35000.0   \n",
       "205411  Product_1341    Whse_S     Category_019 2019-01-07      140000.0   \n",
       "207885  Product_1356    Whse_S     Category_019 2019-01-03       10000.0   \n",
       "207888  Product_1431    Whse_S     Category_019 2019-01-03       50000.0   \n",
       "267871  Product_0980    Whse_A     Category_028 2019-11-14        5000.0   \n",
       "\n",
       "       month_year  year  \n",
       "202916    2019-04  2019  \n",
       "205411    2019-01  2019  \n",
       "207885    2019-01  2019  \n",
       "207888    2019-01  2019  \n",
       "267871    2019-11  2019  "
      ]
     },
     "execution_count": 56,
     "metadata": {},
     "output_type": "execute_result"
    }
   ],
   "source": [
    "sales_app.head()"
   ]
  },
  {
   "cell_type": "code",
   "execution_count": 57,
   "metadata": {},
   "outputs": [
    {
     "name": "stderr",
     "output_type": "stream",
     "text": [
      "C:\\Users\\HP\\AppData\\Local\\Temp\\ipykernel_13420\\2461221576.py:1: SettingWithCopyWarning: \n",
      "A value is trying to be set on a copy of a slice from a DataFrame.\n",
      "Try using .loc[row_indexer,col_indexer] = value instead\n",
      "\n",
      "See the caveats in the documentation: https://pandas.pydata.org/pandas-docs/stable/user_guide/indexing.html#returning-a-view-versus-a-copy\n",
      "  sales_app[\"month\"] = sales_app[\"Date\"].dt.month_name(locale='English')\n"
     ]
    }
   ],
   "source": [
    "sales_app[\"month\"] = sales_app[\"Date\"].dt.month_name(locale='English')"
   ]
  },
  {
   "cell_type": "code",
   "execution_count": 58,
   "metadata": {},
   "outputs": [
    {
     "data": {
      "text/html": [
       "<div>\n",
       "<style scoped>\n",
       "    .dataframe tbody tr th:only-of-type {\n",
       "        vertical-align: middle;\n",
       "    }\n",
       "\n",
       "    .dataframe tbody tr th {\n",
       "        vertical-align: top;\n",
       "    }\n",
       "\n",
       "    .dataframe thead th {\n",
       "        text-align: right;\n",
       "    }\n",
       "</style>\n",
       "<table border=\"1\" class=\"dataframe\">\n",
       "  <thead>\n",
       "    <tr style=\"text-align: right;\">\n",
       "      <th></th>\n",
       "      <th>Product_Code</th>\n",
       "      <th>Warehouse</th>\n",
       "      <th>Product_Category</th>\n",
       "      <th>Date</th>\n",
       "      <th>Order_Demand</th>\n",
       "      <th>month_year</th>\n",
       "      <th>year</th>\n",
       "      <th>month</th>\n",
       "    </tr>\n",
       "  </thead>\n",
       "  <tbody>\n",
       "    <tr>\n",
       "      <th>202916</th>\n",
       "      <td>Product_1904</td>\n",
       "      <td>Whse_S</td>\n",
       "      <td>Category_019</td>\n",
       "      <td>2019-04-05</td>\n",
       "      <td>35000.0</td>\n",
       "      <td>2019-04</td>\n",
       "      <td>2019</td>\n",
       "      <td>April</td>\n",
       "    </tr>\n",
       "    <tr>\n",
       "      <th>205411</th>\n",
       "      <td>Product_1341</td>\n",
       "      <td>Whse_S</td>\n",
       "      <td>Category_019</td>\n",
       "      <td>2019-01-07</td>\n",
       "      <td>140000.0</td>\n",
       "      <td>2019-01</td>\n",
       "      <td>2019</td>\n",
       "      <td>January</td>\n",
       "    </tr>\n",
       "    <tr>\n",
       "      <th>207885</th>\n",
       "      <td>Product_1356</td>\n",
       "      <td>Whse_S</td>\n",
       "      <td>Category_019</td>\n",
       "      <td>2019-01-03</td>\n",
       "      <td>10000.0</td>\n",
       "      <td>2019-01</td>\n",
       "      <td>2019</td>\n",
       "      <td>January</td>\n",
       "    </tr>\n",
       "    <tr>\n",
       "      <th>207888</th>\n",
       "      <td>Product_1431</td>\n",
       "      <td>Whse_S</td>\n",
       "      <td>Category_019</td>\n",
       "      <td>2019-01-03</td>\n",
       "      <td>50000.0</td>\n",
       "      <td>2019-01</td>\n",
       "      <td>2019</td>\n",
       "      <td>January</td>\n",
       "    </tr>\n",
       "    <tr>\n",
       "      <th>267871</th>\n",
       "      <td>Product_0980</td>\n",
       "      <td>Whse_A</td>\n",
       "      <td>Category_028</td>\n",
       "      <td>2019-11-14</td>\n",
       "      <td>5000.0</td>\n",
       "      <td>2019-11</td>\n",
       "      <td>2019</td>\n",
       "      <td>November</td>\n",
       "    </tr>\n",
       "  </tbody>\n",
       "</table>\n",
       "</div>"
      ],
      "text/plain": [
       "        Product_Code Warehouse Product_Category       Date  Order_Demand  \\\n",
       "202916  Product_1904    Whse_S     Category_019 2019-04-05       35000.0   \n",
       "205411  Product_1341    Whse_S     Category_019 2019-01-07      140000.0   \n",
       "207885  Product_1356    Whse_S     Category_019 2019-01-03       10000.0   \n",
       "207888  Product_1431    Whse_S     Category_019 2019-01-03       50000.0   \n",
       "267871  Product_0980    Whse_A     Category_028 2019-11-14        5000.0   \n",
       "\n",
       "       month_year  year     month  \n",
       "202916    2019-04  2019     April  \n",
       "205411    2019-01  2019   January  \n",
       "207885    2019-01  2019   January  \n",
       "207888    2019-01  2019   January  \n",
       "267871    2019-11  2019  November  "
      ]
     },
     "execution_count": 58,
     "metadata": {},
     "output_type": "execute_result"
    }
   ],
   "source": [
    "sales_app.head()"
   ]
  },
  {
   "cell_type": "code",
   "execution_count": 59,
   "metadata": {},
   "outputs": [],
   "source": [
    "returns_app = returned_products[returned_products[\"year\"] >= \"2019\"]"
   ]
  },
  {
   "cell_type": "code",
   "execution_count": 60,
   "metadata": {},
   "outputs": [
    {
     "name": "stderr",
     "output_type": "stream",
     "text": [
      "C:\\Users\\HP\\AppData\\Local\\Temp\\ipykernel_13420\\802205298.py:1: SettingWithCopyWarning: \n",
      "A value is trying to be set on a copy of a slice from a DataFrame.\n",
      "Try using .loc[row_indexer,col_indexer] = value instead\n",
      "\n",
      "See the caveats in the documentation: https://pandas.pydata.org/pandas-docs/stable/user_guide/indexing.html#returning-a-view-versus-a-copy\n",
      "  returns_app[\"month\"] = returns_app[\"Date\"].dt.month_name(locale = \"English\")\n"
     ]
    }
   ],
   "source": [
    "returns_app[\"month\"] = returns_app[\"Date\"].dt.month_name(locale = \"English\")"
   ]
  },
  {
   "cell_type": "code",
   "execution_count": 61,
   "metadata": {},
   "outputs": [
    {
     "data": {
      "text/html": [
       "<div>\n",
       "<style scoped>\n",
       "    .dataframe tbody tr th:only-of-type {\n",
       "        vertical-align: middle;\n",
       "    }\n",
       "\n",
       "    .dataframe tbody tr th {\n",
       "        vertical-align: top;\n",
       "    }\n",
       "\n",
       "    .dataframe thead th {\n",
       "        text-align: right;\n",
       "    }\n",
       "</style>\n",
       "<table border=\"1\" class=\"dataframe\">\n",
       "  <thead>\n",
       "    <tr style=\"text-align: right;\">\n",
       "      <th></th>\n",
       "      <th>Product_Code</th>\n",
       "      <th>Warehouse</th>\n",
       "      <th>Product_Category</th>\n",
       "      <th>Date</th>\n",
       "      <th>Returns</th>\n",
       "      <th>month_year</th>\n",
       "      <th>year</th>\n",
       "      <th>month</th>\n",
       "    </tr>\n",
       "  </thead>\n",
       "  <tbody>\n",
       "    <tr>\n",
       "      <th>2660</th>\n",
       "      <td>Product_2156</td>\n",
       "      <td>Whse_S</td>\n",
       "      <td>Category_022</td>\n",
       "      <td>2019-03-10</td>\n",
       "      <td>16.0</td>\n",
       "      <td>2019-03</td>\n",
       "      <td>2019</td>\n",
       "      <td>March</td>\n",
       "    </tr>\n",
       "    <tr>\n",
       "      <th>2661</th>\n",
       "      <td>Product_0230</td>\n",
       "      <td>Whse_A</td>\n",
       "      <td>Category_007</td>\n",
       "      <td>2019-07-09</td>\n",
       "      <td>66.0</td>\n",
       "      <td>2019-07</td>\n",
       "      <td>2019</td>\n",
       "      <td>July</td>\n",
       "    </tr>\n",
       "    <tr>\n",
       "      <th>2662</th>\n",
       "      <td>Product_0211</td>\n",
       "      <td>Whse_A</td>\n",
       "      <td>Category_007</td>\n",
       "      <td>2019-01-15</td>\n",
       "      <td>40.0</td>\n",
       "      <td>2019-01</td>\n",
       "      <td>2019</td>\n",
       "      <td>January</td>\n",
       "    </tr>\n",
       "    <tr>\n",
       "      <th>2663</th>\n",
       "      <td>Product_0643</td>\n",
       "      <td>Whse_A</td>\n",
       "      <td>Category_028</td>\n",
       "      <td>2019-05-20</td>\n",
       "      <td>1.0</td>\n",
       "      <td>2019-05</td>\n",
       "      <td>2019</td>\n",
       "      <td>May</td>\n",
       "    </tr>\n",
       "    <tr>\n",
       "      <th>2664</th>\n",
       "      <td>Product_1445</td>\n",
       "      <td>Whse_A</td>\n",
       "      <td>Category_019</td>\n",
       "      <td>2019-01-29</td>\n",
       "      <td>2000.0</td>\n",
       "      <td>2019-01</td>\n",
       "      <td>2019</td>\n",
       "      <td>January</td>\n",
       "    </tr>\n",
       "  </tbody>\n",
       "</table>\n",
       "</div>"
      ],
      "text/plain": [
       "      Product_Code Warehouse Product_Category       Date  Returns month_year  \\\n",
       "2660  Product_2156    Whse_S     Category_022 2019-03-10     16.0    2019-03   \n",
       "2661  Product_0230    Whse_A     Category_007 2019-07-09     66.0    2019-07   \n",
       "2662  Product_0211    Whse_A     Category_007 2019-01-15     40.0    2019-01   \n",
       "2663  Product_0643    Whse_A     Category_028 2019-05-20      1.0    2019-05   \n",
       "2664  Product_1445    Whse_A     Category_019 2019-01-29   2000.0    2019-01   \n",
       "\n",
       "      year    month  \n",
       "2660  2019    March  \n",
       "2661  2019     July  \n",
       "2662  2019  January  \n",
       "2663  2019      May  \n",
       "2664  2019  January  "
      ]
     },
     "execution_count": 61,
     "metadata": {},
     "output_type": "execute_result"
    }
   ],
   "source": [
    "returns_app.head()"
   ]
  },
  {
   "cell_type": "code",
   "execution_count": 62,
   "metadata": {},
   "outputs": [],
   "source": [
    "sales_app = sales_app.groupby([\"Warehouse\", \"Product_Category\", \"Product_Code\", \"month_year\", \"month\", \"year\"]).sum([\"Order_Demand\"])\n",
    "returns_app = returns_app.groupby([\"Warehouse\", \"Product_Category\", \"Product_Code\", \"month_year\", \"month\", \"year\"]).sum(\"Returns\")"
   ]
  },
  {
   "cell_type": "code",
   "execution_count": 63,
   "metadata": {},
   "outputs": [],
   "source": [
    "sales_app = pd.DataFrame(sales_app)\n",
    "returns_app = pd.DataFrame(returns_app)"
   ]
  },
  {
   "cell_type": "code",
   "execution_count": 64,
   "metadata": {},
   "outputs": [],
   "source": [
    "sales_app = sales_app.reset_index()\n",
    "returns_app = returns_app.reset_index()"
   ]
  },
  {
   "cell_type": "code",
   "execution_count": 65,
   "metadata": {},
   "outputs": [
    {
     "name": "stdout",
     "output_type": "stream",
     "text": [
      "<class 'pandas.core.frame.DataFrame'>\n",
      "RangeIndex: 83648 entries, 0 to 83647\n",
      "Data columns (total 7 columns):\n",
      " #   Column            Non-Null Count  Dtype        \n",
      "---  ------            --------------  -----        \n",
      " 0   Warehouse         83648 non-null  object       \n",
      " 1   Product_Category  83648 non-null  object       \n",
      " 2   Product_Code      83648 non-null  object       \n",
      " 3   month_year        83648 non-null  period[M]    \n",
      " 4   month             83648 non-null  object       \n",
      " 5   year              83648 non-null  period[A-DEC]\n",
      " 6   Order_Demand      83648 non-null  float64      \n",
      "dtypes: float64(1), object(4), period[A-DEC](1), period[M](1)\n",
      "memory usage: 4.5+ MB\n"
     ]
    }
   ],
   "source": [
    "sales_app.info()"
   ]
  },
  {
   "cell_type": "code",
   "execution_count": 66,
   "metadata": {},
   "outputs": [
    {
     "data": {
      "text/html": [
       "<div>\n",
       "<style scoped>\n",
       "    .dataframe tbody tr th:only-of-type {\n",
       "        vertical-align: middle;\n",
       "    }\n",
       "\n",
       "    .dataframe tbody tr th {\n",
       "        vertical-align: top;\n",
       "    }\n",
       "\n",
       "    .dataframe thead th {\n",
       "        text-align: right;\n",
       "    }\n",
       "</style>\n",
       "<table border=\"1\" class=\"dataframe\">\n",
       "  <thead>\n",
       "    <tr style=\"text-align: right;\">\n",
       "      <th></th>\n",
       "      <th>Warehouse</th>\n",
       "      <th>Product_Category</th>\n",
       "      <th>Product_Code</th>\n",
       "      <th>month_year</th>\n",
       "      <th>month</th>\n",
       "      <th>year</th>\n",
       "      <th>Returns</th>\n",
       "    </tr>\n",
       "  </thead>\n",
       "  <tbody>\n",
       "    <tr>\n",
       "      <th>0</th>\n",
       "      <td>Whse_A</td>\n",
       "      <td>Category_001</td>\n",
       "      <td>Product_1751</td>\n",
       "      <td>2020-05</td>\n",
       "      <td>May</td>\n",
       "      <td>2020</td>\n",
       "      <td>5.0</td>\n",
       "    </tr>\n",
       "    <tr>\n",
       "      <th>1</th>\n",
       "      <td>Whse_A</td>\n",
       "      <td>Category_003</td>\n",
       "      <td>Product_1180</td>\n",
       "      <td>2019-02</td>\n",
       "      <td>February</td>\n",
       "      <td>2019</td>\n",
       "      <td>90.0</td>\n",
       "    </tr>\n",
       "    <tr>\n",
       "      <th>2</th>\n",
       "      <td>Whse_A</td>\n",
       "      <td>Category_003</td>\n",
       "      <td>Product_1719</td>\n",
       "      <td>2019-02</td>\n",
       "      <td>February</td>\n",
       "      <td>2019</td>\n",
       "      <td>54.0</td>\n",
       "    </tr>\n",
       "    <tr>\n",
       "      <th>3</th>\n",
       "      <td>Whse_A</td>\n",
       "      <td>Category_003</td>\n",
       "      <td>Product_1719</td>\n",
       "      <td>2020-02</td>\n",
       "      <td>February</td>\n",
       "      <td>2020</td>\n",
       "      <td>54.0</td>\n",
       "    </tr>\n",
       "    <tr>\n",
       "      <th>4</th>\n",
       "      <td>Whse_A</td>\n",
       "      <td>Category_003</td>\n",
       "      <td>Product_1724</td>\n",
       "      <td>2019-04</td>\n",
       "      <td>April</td>\n",
       "      <td>2019</td>\n",
       "      <td>81.0</td>\n",
       "    </tr>\n",
       "  </tbody>\n",
       "</table>\n",
       "</div>"
      ],
      "text/plain": [
       "  Warehouse Product_Category  Product_Code month_year     month  year  Returns\n",
       "0    Whse_A     Category_001  Product_1751    2020-05       May  2020      5.0\n",
       "1    Whse_A     Category_003  Product_1180    2019-02  February  2019     90.0\n",
       "2    Whse_A     Category_003  Product_1719    2019-02  February  2019     54.0\n",
       "3    Whse_A     Category_003  Product_1719    2020-02  February  2020     54.0\n",
       "4    Whse_A     Category_003  Product_1724    2019-04     April  2019     81.0"
      ]
     },
     "execution_count": 66,
     "metadata": {},
     "output_type": "execute_result"
    }
   ],
   "source": [
    "returns_app.head()"
   ]
  },
  {
   "cell_type": "code",
   "execution_count": 67,
   "metadata": {},
   "outputs": [],
   "source": [
    "app_data = sales_app.merge(returns_app, on = [\"Warehouse\", \"Product_Category\", \"Product_Code\", \"month_year\", \"month\", \"year\"], how = \"left\")"
   ]
  },
  {
   "cell_type": "code",
   "execution_count": 68,
   "metadata": {},
   "outputs": [
    {
     "name": "stdout",
     "output_type": "stream",
     "text": [
      "<class 'pandas.core.frame.DataFrame'>\n",
      "Int64Index: 83648 entries, 0 to 83647\n",
      "Data columns (total 8 columns):\n",
      " #   Column            Non-Null Count  Dtype        \n",
      "---  ------            --------------  -----        \n",
      " 0   Warehouse         83648 non-null  object       \n",
      " 1   Product_Category  83648 non-null  object       \n",
      " 2   Product_Code      83648 non-null  object       \n",
      " 3   month_year        83648 non-null  period[M]    \n",
      " 4   month             83648 non-null  object       \n",
      " 5   year              83648 non-null  period[A-DEC]\n",
      " 6   Order_Demand      83648 non-null  float64      \n",
      " 7   Returns           2745 non-null   float64      \n",
      "dtypes: float64(2), object(4), period[A-DEC](1), period[M](1)\n",
      "memory usage: 5.7+ MB\n"
     ]
    }
   ],
   "source": [
    "app_data.info()"
   ]
  },
  {
   "cell_type": "code",
   "execution_count": 69,
   "metadata": {},
   "outputs": [
    {
     "data": {
      "text/html": [
       "<div>\n",
       "<style scoped>\n",
       "    .dataframe tbody tr th:only-of-type {\n",
       "        vertical-align: middle;\n",
       "    }\n",
       "\n",
       "    .dataframe tbody tr th {\n",
       "        vertical-align: top;\n",
       "    }\n",
       "\n",
       "    .dataframe thead th {\n",
       "        text-align: right;\n",
       "    }\n",
       "</style>\n",
       "<table border=\"1\" class=\"dataframe\">\n",
       "  <thead>\n",
       "    <tr style=\"text-align: right;\">\n",
       "      <th></th>\n",
       "      <th>Warehouse</th>\n",
       "      <th>Product_Category</th>\n",
       "      <th>Product_Code</th>\n",
       "      <th>month_year</th>\n",
       "      <th>month</th>\n",
       "      <th>year</th>\n",
       "      <th>Order_Demand</th>\n",
       "      <th>Returns</th>\n",
       "    </tr>\n",
       "  </thead>\n",
       "  <tbody>\n",
       "    <tr>\n",
       "      <th>0</th>\n",
       "      <td>Whse_A</td>\n",
       "      <td>Category_001</td>\n",
       "      <td>Product_1751</td>\n",
       "      <td>2019-01</td>\n",
       "      <td>January</td>\n",
       "      <td>2019</td>\n",
       "      <td>44.0</td>\n",
       "      <td>NaN</td>\n",
       "    </tr>\n",
       "    <tr>\n",
       "      <th>1</th>\n",
       "      <td>Whse_A</td>\n",
       "      <td>Category_001</td>\n",
       "      <td>Product_1751</td>\n",
       "      <td>2019-02</td>\n",
       "      <td>February</td>\n",
       "      <td>2019</td>\n",
       "      <td>139.0</td>\n",
       "      <td>NaN</td>\n",
       "    </tr>\n",
       "    <tr>\n",
       "      <th>2</th>\n",
       "      <td>Whse_A</td>\n",
       "      <td>Category_001</td>\n",
       "      <td>Product_1751</td>\n",
       "      <td>2019-03</td>\n",
       "      <td>March</td>\n",
       "      <td>2019</td>\n",
       "      <td>187.0</td>\n",
       "      <td>NaN</td>\n",
       "    </tr>\n",
       "    <tr>\n",
       "      <th>3</th>\n",
       "      <td>Whse_A</td>\n",
       "      <td>Category_001</td>\n",
       "      <td>Product_1751</td>\n",
       "      <td>2019-04</td>\n",
       "      <td>April</td>\n",
       "      <td>2019</td>\n",
       "      <td>63.0</td>\n",
       "      <td>NaN</td>\n",
       "    </tr>\n",
       "    <tr>\n",
       "      <th>4</th>\n",
       "      <td>Whse_A</td>\n",
       "      <td>Category_001</td>\n",
       "      <td>Product_1751</td>\n",
       "      <td>2019-05</td>\n",
       "      <td>May</td>\n",
       "      <td>2019</td>\n",
       "      <td>29.0</td>\n",
       "      <td>NaN</td>\n",
       "    </tr>\n",
       "  </tbody>\n",
       "</table>\n",
       "</div>"
      ],
      "text/plain": [
       "  Warehouse Product_Category  Product_Code month_year     month  year  \\\n",
       "0    Whse_A     Category_001  Product_1751    2019-01   January  2019   \n",
       "1    Whse_A     Category_001  Product_1751    2019-02  February  2019   \n",
       "2    Whse_A     Category_001  Product_1751    2019-03     March  2019   \n",
       "3    Whse_A     Category_001  Product_1751    2019-04     April  2019   \n",
       "4    Whse_A     Category_001  Product_1751    2019-05       May  2019   \n",
       "\n",
       "   Order_Demand  Returns  \n",
       "0          44.0      NaN  \n",
       "1         139.0      NaN  \n",
       "2         187.0      NaN  \n",
       "3          63.0      NaN  \n",
       "4          29.0      NaN  "
      ]
     },
     "execution_count": 69,
     "metadata": {},
     "output_type": "execute_result"
    }
   ],
   "source": [
    "app_data.head()"
   ]
  },
  {
   "cell_type": "code",
   "execution_count": 70,
   "metadata": {},
   "outputs": [],
   "source": [
    "app_data = app_data.fillna(0)"
   ]
  },
  {
   "cell_type": "code",
   "execution_count": 71,
   "metadata": {},
   "outputs": [
    {
     "data": {
      "text/html": [
       "<div>\n",
       "<style scoped>\n",
       "    .dataframe tbody tr th:only-of-type {\n",
       "        vertical-align: middle;\n",
       "    }\n",
       "\n",
       "    .dataframe tbody tr th {\n",
       "        vertical-align: top;\n",
       "    }\n",
       "\n",
       "    .dataframe thead th {\n",
       "        text-align: right;\n",
       "    }\n",
       "</style>\n",
       "<table border=\"1\" class=\"dataframe\">\n",
       "  <thead>\n",
       "    <tr style=\"text-align: right;\">\n",
       "      <th></th>\n",
       "      <th>Warehouse</th>\n",
       "      <th>Product_Category</th>\n",
       "      <th>Product_Code</th>\n",
       "      <th>month_year</th>\n",
       "      <th>month</th>\n",
       "      <th>year</th>\n",
       "      <th>Order_Demand</th>\n",
       "      <th>Returns</th>\n",
       "    </tr>\n",
       "  </thead>\n",
       "  <tbody>\n",
       "    <tr>\n",
       "      <th>0</th>\n",
       "      <td>Whse_A</td>\n",
       "      <td>Category_001</td>\n",
       "      <td>Product_1751</td>\n",
       "      <td>2019-01</td>\n",
       "      <td>January</td>\n",
       "      <td>2019</td>\n",
       "      <td>44.0</td>\n",
       "      <td>0.0</td>\n",
       "    </tr>\n",
       "    <tr>\n",
       "      <th>1</th>\n",
       "      <td>Whse_A</td>\n",
       "      <td>Category_001</td>\n",
       "      <td>Product_1751</td>\n",
       "      <td>2019-02</td>\n",
       "      <td>February</td>\n",
       "      <td>2019</td>\n",
       "      <td>139.0</td>\n",
       "      <td>0.0</td>\n",
       "    </tr>\n",
       "    <tr>\n",
       "      <th>2</th>\n",
       "      <td>Whse_A</td>\n",
       "      <td>Category_001</td>\n",
       "      <td>Product_1751</td>\n",
       "      <td>2019-03</td>\n",
       "      <td>March</td>\n",
       "      <td>2019</td>\n",
       "      <td>187.0</td>\n",
       "      <td>0.0</td>\n",
       "    </tr>\n",
       "    <tr>\n",
       "      <th>3</th>\n",
       "      <td>Whse_A</td>\n",
       "      <td>Category_001</td>\n",
       "      <td>Product_1751</td>\n",
       "      <td>2019-04</td>\n",
       "      <td>April</td>\n",
       "      <td>2019</td>\n",
       "      <td>63.0</td>\n",
       "      <td>0.0</td>\n",
       "    </tr>\n",
       "    <tr>\n",
       "      <th>4</th>\n",
       "      <td>Whse_A</td>\n",
       "      <td>Category_001</td>\n",
       "      <td>Product_1751</td>\n",
       "      <td>2019-05</td>\n",
       "      <td>May</td>\n",
       "      <td>2019</td>\n",
       "      <td>29.0</td>\n",
       "      <td>0.0</td>\n",
       "    </tr>\n",
       "  </tbody>\n",
       "</table>\n",
       "</div>"
      ],
      "text/plain": [
       "  Warehouse Product_Category  Product_Code month_year     month  year  \\\n",
       "0    Whse_A     Category_001  Product_1751    2019-01   January  2019   \n",
       "1    Whse_A     Category_001  Product_1751    2019-02  February  2019   \n",
       "2    Whse_A     Category_001  Product_1751    2019-03     March  2019   \n",
       "3    Whse_A     Category_001  Product_1751    2019-04     April  2019   \n",
       "4    Whse_A     Category_001  Product_1751    2019-05       May  2019   \n",
       "\n",
       "   Order_Demand  Returns  \n",
       "0          44.0      0.0  \n",
       "1         139.0      0.0  \n",
       "2         187.0      0.0  \n",
       "3          63.0      0.0  \n",
       "4          29.0      0.0  "
      ]
     },
     "execution_count": 71,
     "metadata": {},
     "output_type": "execute_result"
    }
   ],
   "source": [
    "app_data.head()"
   ]
  },
  {
   "cell_type": "code",
   "execution_count": 72,
   "metadata": {},
   "outputs": [],
   "source": [
    "app_data.to_csv(\"../data/app_data.csv\")"
   ]
  },
  {
   "cell_type": "code",
   "execution_count": null,
   "metadata": {},
   "outputs": [],
   "source": []
  }
 ],
 "metadata": {
  "kernelspec": {
   "display_name": "env",
   "language": "python",
   "name": "python3"
  },
  "language_info": {
   "codemirror_mode": {
    "name": "ipython",
    "version": 3
   },
   "file_extension": ".py",
   "mimetype": "text/x-python",
   "name": "python",
   "nbconvert_exporter": "python",
   "pygments_lexer": "ipython3",
   "version": "3.9.13"
  },
  "orig_nbformat": 4,
  "vscode": {
   "interpreter": {
    "hash": "14957cdd6866f64350418ee3d6870eba7d9863bdf2d05bbce7132451dba63f6a"
   }
  }
 },
 "nbformat": 4,
 "nbformat_minor": 2
}
